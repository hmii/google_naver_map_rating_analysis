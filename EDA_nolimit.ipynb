{
 "cells": [
  {
   "cell_type": "code",
   "execution_count": 129,
   "id": "75c0fc2d",
   "metadata": {},
   "outputs": [],
   "source": [
    "import pandas as pd\n",
    "import matplotlib.pyplot as plt\n",
    "import numpy as np\n",
    "import seaborn as sns\n",
    "\n",
    "import pingouin as pg # 검정통계량, 상관관계, 분산분석 등 \n",
    "from statsmodels.formula.api import ols # 회귀분석\n",
    "\n",
    "from matplotlib import font_manager,rc\n",
    "font_path=\"AppleSDGothicNeoM.ttf\" #파일 필요\n",
    "font_name=font_manager.FontProperties(fname=font_path).get_name()\n",
    "rc('font',family=font_name)"
   ]
  },
  {
   "cell_type": "code",
   "execution_count": 39,
   "id": "4d47ccf9",
   "metadata": {},
   "outputs": [],
   "source": [
    "n_aw = pd.read_excel('애월읍_중복제거_NAVER_ri포함.xlsx')\n",
    "n_ss = pd.read_excel('성산읍_중복제거_NAVER_ri포함.xlsx')\n",
    "g_aw = pd.read_excel('애월_음식점진짜중복제거.xlsx')\n",
    "g_ss = pd.read_excel('성산_음식점진짜중복제거.xlsx')"
   ]
  },
  {
   "cell_type": "markdown",
   "id": "9b77733a",
   "metadata": {},
   "source": [
    "# 네이버와 구글의 음식점 양상 파악하기 \n",
    "## 분석대상 골라내기"
   ]
  },
  {
   "cell_type": "code",
   "execution_count": 40,
   "id": "6871dcf2",
   "metadata": {
    "scrolled": true
   },
   "outputs": [
    {
     "name": "stdout",
     "output_type": "stream",
     "text": [
      "\n",
      "스크래핑 완료되어 중복제거한 데이터 수\n",
      "\n",
      "네이버: 1137\n",
      "구글: 985\n",
      "\n"
     ]
    }
   ],
   "source": [
    "# 읍 구분 없이 합치기 \n",
    "naver = pd.concat([n_aw, n_ss], axis=0)\n",
    "google = pd.concat([g_aw, g_ss], axis=0)\n",
    "print(f'''\n",
    "스크래핑 완료되어 중복제거한 데이터 수\n",
    "\n",
    "네이버: {naver.name.count()}\n",
    "구글: {google.name.count()}\n",
    "''') "
   ]
  },
  {
   "cell_type": "code",
   "execution_count": 4,
   "id": "f92bf019",
   "metadata": {},
   "outputs": [
    {
     "name": "stdout",
     "output_type": "stream",
     "text": [
      "\n",
      "네이버 방문자리뷰 30개 이상, 블로그리뷰 10개 이상\n",
      "구글 방문자리뷰 30개 이상 \n",
      "\n",
      "네이버: 1137\n",
      "구글: 985\n",
      "\n"
     ]
    }
   ],
   "source": [
    "# 기본 조건에 맞는 음식점만 골라내기 \n",
    "# naver = naver[(naver.visit_review >= 30) & (naver.blog_review >= 10)]\n",
    "# naver = naver[naver.point.notna()]\n",
    "# google = google[(google.review >= 30) & (google.score.notna())]\n",
    "\n",
    "# naver = naver[naver.point.notna()]\n",
    "\n",
    "print(f'''\n",
    "네이버 방문자리뷰 30개 이상, 블로그리뷰 10개 이상\n",
    "구글 방문자리뷰 30개 이상 \n",
    "\n",
    "네이버: {naver.name.count()}\n",
    "구글: {google.name.count()}\n",
    "''')"
   ]
  },
  {
   "cell_type": "code",
   "execution_count": 37,
   "id": "4cabfee4",
   "metadata": {},
   "outputs": [
    {
     "data": {
      "text/html": [
       "<div>\n",
       "<style scoped>\n",
       "    .dataframe tbody tr th:only-of-type {\n",
       "        vertical-align: middle;\n",
       "    }\n",
       "\n",
       "    .dataframe tbody tr th {\n",
       "        vertical-align: top;\n",
       "    }\n",
       "\n",
       "    .dataframe thead th {\n",
       "        text-align: right;\n",
       "    }\n",
       "</style>\n",
       "<table border=\"1\" class=\"dataframe\">\n",
       "  <thead>\n",
       "    <tr style=\"text-align: right;\">\n",
       "      <th></th>\n",
       "      <th>point</th>\n",
       "      <th>visit_review</th>\n",
       "      <th>blog_review</th>\n",
       "      <th>score</th>\n",
       "      <th>review</th>\n",
       "    </tr>\n",
       "  </thead>\n",
       "  <tbody>\n",
       "    <tr>\n",
       "      <th>count</th>\n",
       "      <td>407.000000</td>\n",
       "      <td>458.00000</td>\n",
       "      <td>466.000000</td>\n",
       "      <td>475.000000</td>\n",
       "      <td>475.000000</td>\n",
       "    </tr>\n",
       "    <tr>\n",
       "      <th>mean</th>\n",
       "      <td>4.423317</td>\n",
       "      <td>209.50655</td>\n",
       "      <td>195.040773</td>\n",
       "      <td>4.068842</td>\n",
       "      <td>105.867368</td>\n",
       "    </tr>\n",
       "    <tr>\n",
       "      <th>std</th>\n",
       "      <td>0.218644</td>\n",
       "      <td>401.27598</td>\n",
       "      <td>394.398451</td>\n",
       "      <td>0.606816</td>\n",
       "      <td>206.066889</td>\n",
       "    </tr>\n",
       "    <tr>\n",
       "      <th>min</th>\n",
       "      <td>3.680000</td>\n",
       "      <td>1.00000</td>\n",
       "      <td>1.000000</td>\n",
       "      <td>1.000000</td>\n",
       "      <td>1.000000</td>\n",
       "    </tr>\n",
       "    <tr>\n",
       "      <th>25%</th>\n",
       "      <td>4.280000</td>\n",
       "      <td>33.00000</td>\n",
       "      <td>13.250000</td>\n",
       "      <td>3.800000</td>\n",
       "      <td>11.000000</td>\n",
       "    </tr>\n",
       "    <tr>\n",
       "      <th>50%</th>\n",
       "      <td>4.410000</td>\n",
       "      <td>86.50000</td>\n",
       "      <td>59.500000</td>\n",
       "      <td>4.100000</td>\n",
       "      <td>49.000000</td>\n",
       "    </tr>\n",
       "    <tr>\n",
       "      <th>75%</th>\n",
       "      <td>4.560000</td>\n",
       "      <td>219.00000</td>\n",
       "      <td>197.500000</td>\n",
       "      <td>4.400000</td>\n",
       "      <td>125.500000</td>\n",
       "    </tr>\n",
       "    <tr>\n",
       "      <th>max</th>\n",
       "      <td>4.980000</td>\n",
       "      <td>3412.00000</td>\n",
       "      <td>3122.000000</td>\n",
       "      <td>5.000000</td>\n",
       "      <td>3096.000000</td>\n",
       "    </tr>\n",
       "  </tbody>\n",
       "</table>\n",
       "</div>"
      ],
      "text/plain": [
       "            point  visit_review  blog_review       score       review\n",
       "count  407.000000     458.00000   466.000000  475.000000   475.000000\n",
       "mean     4.423317     209.50655   195.040773    4.068842   105.867368\n",
       "std      0.218644     401.27598   394.398451    0.606816   206.066889\n",
       "min      3.680000       1.00000     1.000000    1.000000     1.000000\n",
       "25%      4.280000      33.00000    13.250000    3.800000    11.000000\n",
       "50%      4.410000      86.50000    59.500000    4.100000    49.000000\n",
       "75%      4.560000     219.00000   197.500000    4.400000   125.500000\n",
       "max      4.980000    3412.00000  3122.000000    5.000000  3096.000000"
      ]
     },
     "execution_count": 37,
     "metadata": {},
     "output_type": "execute_result"
    }
   ],
   "source": [
    "total = pd.merge(naver, google, on='name')\n",
    "total.describe()"
   ]
  },
  {
   "cell_type": "code",
   "execution_count": 8,
   "id": "93c2b972",
   "metadata": {},
   "outputs": [
    {
     "data": {
      "text/plain": [
       "count    1074.000000\n",
       "mean      163.509311\n",
       "std       365.849218\n",
       "min         1.000000\n",
       "25%        15.000000\n",
       "50%        58.000000\n",
       "75%       158.500000\n",
       "max      5459.000000\n",
       "Name: visit_review, dtype: float64"
      ]
     },
     "execution_count": 8,
     "metadata": {},
     "output_type": "execute_result"
    }
   ],
   "source": [
    "naver.visit_review.describe()"
   ]
  },
  {
   "cell_type": "code",
   "execution_count": 7,
   "id": "241ce560",
   "metadata": {},
   "outputs": [
    {
     "data": {
      "text/plain": [
       "160020.0"
      ]
     },
     "execution_count": 7,
     "metadata": {},
     "output_type": "execute_result"
    }
   ],
   "source": [
    "naver.blog_review.sum()"
   ]
  },
  {
   "cell_type": "code",
   "execution_count": 6,
   "id": "bc82dc05",
   "metadata": {},
   "outputs": [
    {
     "data": {
      "text/plain": [
       "85348"
      ]
     },
     "execution_count": 6,
     "metadata": {},
     "output_type": "execute_result"
    }
   ],
   "source": [
    "google.review.sum()"
   ]
  },
  {
   "cell_type": "code",
   "execution_count": 76,
   "id": "605fe057",
   "metadata": {},
   "outputs": [
    {
     "data": {
      "text/plain": [
       "(-415.5, 589.0)"
      ]
     },
     "execution_count": 76,
     "metadata": {},
     "output_type": "execute_result"
    }
   ],
   "source": [
    "q1 = naver.visit_review.quantile(0.25)\n",
    "q3 = naver.visit_review.quantile(0.75)\n",
    "IQR = q3 - q1\n",
    "qq1 = q1 - 1.5*IQR # 보다 큰 값중 가장 작은 값\n",
    "qq3 = q3 + 1.5*IQR # 보다 작은 값중 가장 큰 값 \n",
    "qq1, qq3"
   ]
  },
  {
   "cell_type": "code",
   "execution_count": 71,
   "id": "517dfb28",
   "metadata": {},
   "outputs": [
    {
     "data": {
      "text/plain": [
       "(-191.875, 333.125)"
      ]
     },
     "execution_count": 71,
     "metadata": {},
     "output_type": "execute_result"
    }
   ],
   "source": [
    "q1_b = naver.blog_review.quantile(0.25)\n",
    "q3_b = naver.blog_review.quantile(0.75)\n",
    "IQR_b = q3_b - q1_b\n",
    "qq1_b = q1_b - 1.5*IQR_b # 보다 큰 값중 가장 작은 값\n",
    "qq3_b = q3_b + 1.5*IQR_b # 보다 작은 값중 가장 큰 값 \n",
    "qq1_b, qq3_b"
   ]
  },
  {
   "cell_type": "code",
   "execution_count": 72,
   "id": "2d5fc699",
   "metadata": {},
   "outputs": [
    {
     "data": {
      "text/plain": [
       "(-134.0, 234.0)"
      ]
     },
     "execution_count": 72,
     "metadata": {},
     "output_type": "execute_result"
    }
   ],
   "source": [
    "q1_g = google.review.quantile(0.25)\n",
    "q3_g = google.review.quantile(0.75)\n",
    "IQR_g = q3_g - q1_g\n",
    "qq1_g = q1_g - 1.5*IQR_g # 보다 큰 값중 가장 작은 값\n",
    "qq3_g = q3_g + 1.5*IQR_g # 보다 작은 값중 가장 큰 값 \n",
    "qq1_g, qq3_g"
   ]
  },
  {
   "cell_type": "code",
   "execution_count": null,
   "id": "0f45e18c",
   "metadata": {},
   "outputs": [],
   "source": []
  },
  {
   "cell_type": "code",
   "execution_count": null,
   "id": "f5b6fdbf",
   "metadata": {},
   "outputs": [],
   "source": [
    "print(len(naver[(naver.visit_review < 373) & (naver.visit_review > 0)]))\n",
    "print(len(naver[(naver.visit_review < 333) & (naver.visit_review > 0)]))\n",
    "print(len(naver[(naver.visit_review < 233) & (naver.visit_review > 0)]))"
   ]
  },
  {
   "cell_type": "code",
   "execution_count": 5,
   "id": "aec49071",
   "metadata": {},
   "outputs": [],
   "source": [
    "# naver = naver[(naver.visit_review < 234) & (naver.blog_review < 234)]\n",
    "# google = google[(google.review < 234)]\n"
   ]
  },
  {
   "cell_type": "code",
   "execution_count": 17,
   "id": "7be0e1e3",
   "metadata": {},
   "outputs": [
    {
     "data": {
      "text/html": [
       "<div>\n",
       "<style scoped>\n",
       "    .dataframe tbody tr th:only-of-type {\n",
       "        vertical-align: middle;\n",
       "    }\n",
       "\n",
       "    .dataframe tbody tr th {\n",
       "        vertical-align: top;\n",
       "    }\n",
       "\n",
       "    .dataframe thead th {\n",
       "        text-align: right;\n",
       "    }\n",
       "</style>\n",
       "<table border=\"1\" class=\"dataframe\">\n",
       "  <thead>\n",
       "    <tr style=\"text-align: right;\">\n",
       "      <th></th>\n",
       "      <th>name</th>\n",
       "      <th>point</th>\n",
       "      <th>visit_review</th>\n",
       "      <th>blog_review</th>\n",
       "      <th>ri</th>\n",
       "      <th>range</th>\n",
       "    </tr>\n",
       "  </thead>\n",
       "  <tbody>\n",
       "    <tr>\n",
       "      <th>9</th>\n",
       "      <td>잇수다</td>\n",
       "      <td>4.36</td>\n",
       "      <td>87.0</td>\n",
       "      <td>180.0</td>\n",
       "      <td>고내리</td>\n",
       "      <td>4.2 - 4.39</td>\n",
       "    </tr>\n",
       "    <tr>\n",
       "      <th>10</th>\n",
       "      <td>제주화연이네식당</td>\n",
       "      <td>4.33</td>\n",
       "      <td>122.0</td>\n",
       "      <td>102.0</td>\n",
       "      <td>고내리</td>\n",
       "      <td>4.2 - 4.39</td>\n",
       "    </tr>\n",
       "    <tr>\n",
       "      <th>12</th>\n",
       "      <td>고내횟집</td>\n",
       "      <td>4.41</td>\n",
       "      <td>117.0</td>\n",
       "      <td>68.0</td>\n",
       "      <td>고내리</td>\n",
       "      <td>4.4 - 4.59</td>\n",
       "    </tr>\n",
       "    <tr>\n",
       "      <th>13</th>\n",
       "      <td>랑지다</td>\n",
       "      <td>4.39</td>\n",
       "      <td>60.0</td>\n",
       "      <td>104.0</td>\n",
       "      <td>고내리</td>\n",
       "      <td>4.2 - 4.39</td>\n",
       "    </tr>\n",
       "    <tr>\n",
       "      <th>16</th>\n",
       "      <td>뿔난돼지</td>\n",
       "      <td>4.66</td>\n",
       "      <td>130.0</td>\n",
       "      <td>47.0</td>\n",
       "      <td>고내리</td>\n",
       "      <td>4.6 - 4.79</td>\n",
       "    </tr>\n",
       "  </tbody>\n",
       "</table>\n",
       "</div>"
      ],
      "text/plain": [
       "        name  point  visit_review  blog_review   ri       range\n",
       "9        잇수다   4.36          87.0        180.0  고내리  4.2 - 4.39\n",
       "10  제주화연이네식당   4.33         122.0        102.0  고내리  4.2 - 4.39\n",
       "12      고내횟집   4.41         117.0         68.0  고내리  4.4 - 4.59\n",
       "13       랑지다   4.39          60.0        104.0  고내리  4.2 - 4.39\n",
       "16      뿔난돼지   4.66         130.0         47.0  고내리  4.6 - 4.79"
      ]
     },
     "execution_count": 17,
     "metadata": {},
     "output_type": "execute_result"
    }
   ],
   "source": [
    "naver.head()"
   ]
  },
  {
   "cell_type": "code",
   "execution_count": 18,
   "id": "7d18a379",
   "metadata": {},
   "outputs": [
    {
     "data": {
      "text/html": [
       "<div>\n",
       "<style scoped>\n",
       "    .dataframe tbody tr th:only-of-type {\n",
       "        vertical-align: middle;\n",
       "    }\n",
       "\n",
       "    .dataframe tbody tr th {\n",
       "        vertical-align: top;\n",
       "    }\n",
       "\n",
       "    .dataframe thead th {\n",
       "        text-align: right;\n",
       "    }\n",
       "</style>\n",
       "<table border=\"1\" class=\"dataframe\">\n",
       "  <thead>\n",
       "    <tr style=\"text-align: right;\">\n",
       "      <th></th>\n",
       "      <th>name</th>\n",
       "      <th>score</th>\n",
       "      <th>review</th>\n",
       "      <th>address</th>\n",
       "      <th>range</th>\n",
       "    </tr>\n",
       "  </thead>\n",
       "  <tbody>\n",
       "    <tr>\n",
       "      <th>0</th>\n",
       "      <td>The 돈</td>\n",
       "      <td>1.0</td>\n",
       "      <td>4</td>\n",
       "      <td>애월읍 신엄리 989-2</td>\n",
       "      <td>1.0 - 1.19</td>\n",
       "    </tr>\n",
       "    <tr>\n",
       "      <th>1</th>\n",
       "      <td>광성식당</td>\n",
       "      <td>1.0</td>\n",
       "      <td>1</td>\n",
       "      <td>애월읍 광령리 1333-6</td>\n",
       "      <td>1.0 - 1.19</td>\n",
       "    </tr>\n",
       "    <tr>\n",
       "      <th>2</th>\n",
       "      <td>구엄해녀의집</td>\n",
       "      <td>1.0</td>\n",
       "      <td>2</td>\n",
       "      <td>애월읍 구엄리</td>\n",
       "      <td>1.0 - 1.19</td>\n",
       "    </tr>\n",
       "    <tr>\n",
       "      <th>3</th>\n",
       "      <td>군성식당</td>\n",
       "      <td>1.0</td>\n",
       "      <td>1</td>\n",
       "      <td>애월읍 신엄리 2847-10번지 제주시</td>\n",
       "      <td>1.0 - 1.19</td>\n",
       "    </tr>\n",
       "    <tr>\n",
       "      <th>4</th>\n",
       "      <td>마루해물항아리</td>\n",
       "      <td>1.0</td>\n",
       "      <td>1</td>\n",
       "      <td>애월읍 하가로 167-2 하가리) 2층 2층</td>\n",
       "      <td>1.0 - 1.19</td>\n",
       "    </tr>\n",
       "  </tbody>\n",
       "</table>\n",
       "</div>"
      ],
      "text/plain": [
       "      name  score  review                   address       range\n",
       "0    The 돈    1.0       4             애월읍 신엄리 989-2  1.0 - 1.19\n",
       "1     광성식당    1.0       1            애월읍 광령리 1333-6  1.0 - 1.19\n",
       "2   구엄해녀의집    1.0       2                   애월읍 구엄리  1.0 - 1.19\n",
       "3     군성식당    1.0       1     애월읍 신엄리 2847-10번지 제주시  1.0 - 1.19\n",
       "4  마루해물항아리    1.0       1  애월읍 하가로 167-2 하가리) 2층 2층  1.0 - 1.19"
      ]
     },
     "execution_count": 18,
     "metadata": {},
     "output_type": "execute_result"
    }
   ],
   "source": [
    "google.head()"
   ]
  },
  {
   "cell_type": "code",
   "execution_count": null,
   "id": "efea4a6c",
   "metadata": {},
   "outputs": [],
   "source": []
  },
  {
   "cell_type": "code",
   "execution_count": null,
   "id": "846b7c5b",
   "metadata": {},
   "outputs": [],
   "source": [
    "naver['rate'] = naver.visit_review / naver.blog_review\n",
    "naver.boxplot(column = 'rate', vert= False)\n",
    "naver.describe()"
   ]
  },
  {
   "cell_type": "code",
   "execution_count": null,
   "id": "408b1bb8",
   "metadata": {},
   "outputs": [],
   "source": [
    "naver.rate.describe()"
   ]
  },
  {
   "cell_type": "code",
   "execution_count": null,
   "id": "767800af",
   "metadata": {},
   "outputs": [],
   "source": [
    "naver[naver.rate > 30]"
   ]
  },
  {
   "cell_type": "code",
   "execution_count": null,
   "id": "cf81e7e9",
   "metadata": {},
   "outputs": [],
   "source": [
    "# range달아주기 \n",
    "review_list = [round(i, 2) for i in np.arange(1, 6000, 5)]   # 스코어 리스트 만들어주기\n",
    "labels = [f'{i} - {round((i) + 4)}' for i in review_list[:-1]] # 라벨 만들기 \n",
    "# labels[-1] = '4.8 - 5.0'\n",
    "review_list\n",
    "labels"
   ]
  },
  {
   "cell_type": "code",
   "execution_count": null,
   "id": "4112bd9f",
   "metadata": {},
   "outputs": [],
   "source": [
    "# 범위 달아주기 \n",
    "naver['review_range'] = pd.cut(naver.visit_review, review_list, right=False, labels=labels)\n",
    "naver"
   ]
  },
  {
   "cell_type": "code",
   "execution_count": null,
   "id": "de2c9632",
   "metadata": {
    "scrolled": true
   },
   "outputs": [],
   "source": [
    "naver[naver.review_range == '1 - 5'].plot.scatter(x='name', y='point')"
   ]
  },
  {
   "cell_type": "code",
   "execution_count": null,
   "id": "85655307",
   "metadata": {
    "scrolled": false
   },
   "outputs": [],
   "source": [
    "naver99 = naver.groupby('review_range').mean()\n",
    "for i in np.arange(4, 5, 0.1):\n",
    "    print(naver99[(naver99.point <= i+0.09) & (naver99.point > i)])"
   ]
  },
  {
   "cell_type": "code",
   "execution_count": null,
   "id": "2037bfcb",
   "metadata": {},
   "outputs": [],
   "source": [
    "naver99"
   ]
  },
  {
   "cell_type": "code",
   "execution_count": null,
   "id": "b7e48fa0",
   "metadata": {},
   "outputs": [],
   "source": [
    "fig = sns.pairplot(naver[['review_range', 'point']])"
   ]
  },
  {
   "cell_type": "code",
   "execution_count": null,
   "id": "3525505e",
   "metadata": {},
   "outputs": [],
   "source": [
    "# 리뷰수 별 별점 평균 \n",
    "\n",
    "naver.score.mean()\n",
    "naver.boxplot(column = 'rate', vert= False)\n",
    "naver.describe()"
   ]
  },
  {
   "cell_type": "code",
   "execution_count": null,
   "id": "071a86e5",
   "metadata": {},
   "outputs": [],
   "source": [
    "google.info()"
   ]
  },
  {
   "cell_type": "markdown",
   "id": "003edb83",
   "metadata": {},
   "source": [
    "## 히스토그램을 위한 range"
   ]
  },
  {
   "cell_type": "code",
   "execution_count": 41,
   "id": "ac59206e",
   "metadata": {
    "scrolled": false
   },
   "outputs": [
    {
     "data": {
      "text/plain": [
       "['1.0 - 1.19',\n",
       " '1.2 - 1.39',\n",
       " '1.4 - 1.59',\n",
       " '1.6 - 1.79',\n",
       " '1.8 - 1.99',\n",
       " '2.0 - 2.19',\n",
       " '2.2 - 2.39',\n",
       " '2.4 - 2.59',\n",
       " '2.6 - 2.79',\n",
       " '2.8 - 2.99',\n",
       " '3.0 - 3.19',\n",
       " '3.2 - 3.39',\n",
       " '3.4 - 3.59',\n",
       " '3.6 - 3.79',\n",
       " '3.8 - 3.99',\n",
       " '4.0 - 4.19',\n",
       " '4.2 - 4.39',\n",
       " '4.4 - 4.59',\n",
       " '4.6 - 4.79',\n",
       " '4.8 - 5.0']"
      ]
     },
     "execution_count": 41,
     "metadata": {},
     "output_type": "execute_result"
    }
   ],
   "source": [
    "# range달아주기 \n",
    "score_list = [round(i, 2) for i in np.arange(1, 5.2, 0.2)]   # 스코어 리스트 만들어주기\n",
    "score_list2 = score_list + [0.19]\n",
    "labels = [f'{i} - {round((i + 0.19), 2)}' for i in score_list[:-1]] # 라벨 만들기 \n",
    "labels[-1] = '4.8 - 5.0'\n",
    "score_list\n",
    "labels"
   ]
  },
  {
   "cell_type": "code",
   "execution_count": 49,
   "id": "7c5a6a6a",
   "metadata": {},
   "outputs": [],
   "source": [
    "# 범위 달아주기 \n",
    "naver['range'] = pd.cut(naver.point, score_list, right=False, labels=labels)\n",
    "google.range = pd.cut(google.score, score_list, right=False, labels=labels)"
   ]
  },
  {
   "cell_type": "code",
   "execution_count": 61,
   "id": "5a25e91f",
   "metadata": {},
   "outputs": [],
   "source": [
    "google.range[google.score == 5.0] = '4.8 - 5.0'\n",
    "naver.range[naver.point == 5.0] = '4.8 - 5.0'"
   ]
  },
  {
   "cell_type": "code",
   "execution_count": 62,
   "id": "339fdb16",
   "metadata": {},
   "outputs": [
    {
     "data": {
      "text/html": [
       "<div>\n",
       "<style scoped>\n",
       "    .dataframe tbody tr th:only-of-type {\n",
       "        vertical-align: middle;\n",
       "    }\n",
       "\n",
       "    .dataframe tbody tr th {\n",
       "        vertical-align: top;\n",
       "    }\n",
       "\n",
       "    .dataframe thead th {\n",
       "        text-align: right;\n",
       "    }\n",
       "</style>\n",
       "<table border=\"1\" class=\"dataframe\">\n",
       "  <thead>\n",
       "    <tr style=\"text-align: right;\">\n",
       "      <th></th>\n",
       "      <th>name</th>\n",
       "      <th>point</th>\n",
       "      <th>visit_review</th>\n",
       "      <th>blog_review</th>\n",
       "      <th>ri</th>\n",
       "      <th>range</th>\n",
       "    </tr>\n",
       "  </thead>\n",
       "  <tbody>\n",
       "    <tr>\n",
       "      <th>72</th>\n",
       "      <td>와썹비치하우스</td>\n",
       "      <td>5.0</td>\n",
       "      <td>34.0</td>\n",
       "      <td>11.0</td>\n",
       "      <td>곽지리</td>\n",
       "      <td>4.8 - 5.0</td>\n",
       "    </tr>\n",
       "    <tr>\n",
       "      <th>321</th>\n",
       "      <td>애월 우드나잇</td>\n",
       "      <td>5.0</td>\n",
       "      <td>11.0</td>\n",
       "      <td>2.0</td>\n",
       "      <td>애월리</td>\n",
       "      <td>4.8 - 5.0</td>\n",
       "    </tr>\n",
       "    <tr>\n",
       "      <th>208</th>\n",
       "      <td>팔미돈가 2호점</td>\n",
       "      <td>5.0</td>\n",
       "      <td>14.0</td>\n",
       "      <td>2.0</td>\n",
       "      <td>난산리</td>\n",
       "      <td>4.8 - 5.0</td>\n",
       "    </tr>\n",
       "  </tbody>\n",
       "</table>\n",
       "</div>"
      ],
      "text/plain": [
       "         name  point  visit_review  blog_review   ri      range\n",
       "72    와썹비치하우스    5.0          34.0         11.0  곽지리  4.8 - 5.0\n",
       "321   애월 우드나잇    5.0          11.0          2.0  애월리  4.8 - 5.0\n",
       "208  팔미돈가 2호점    5.0          14.0          2.0  난산리  4.8 - 5.0"
      ]
     },
     "execution_count": 62,
     "metadata": {},
     "output_type": "execute_result"
    }
   ],
   "source": [
    "naver[naver.point == 5.0]"
   ]
  },
  {
   "cell_type": "markdown",
   "id": "d1ce53f7",
   "metadata": {},
   "source": [
    "## 각종 기술통계 "
   ]
  },
  {
   "cell_type": "code",
   "execution_count": 26,
   "id": "90105d83",
   "metadata": {},
   "outputs": [
    {
     "name": "stdout",
     "output_type": "stream",
     "text": [
      "네이버\n"
     ]
    },
    {
     "data": {
      "text/html": [
       "<div>\n",
       "<style scoped>\n",
       "    .dataframe tbody tr th:only-of-type {\n",
       "        vertical-align: middle;\n",
       "    }\n",
       "\n",
       "    .dataframe tbody tr th {\n",
       "        vertical-align: top;\n",
       "    }\n",
       "\n",
       "    .dataframe thead th {\n",
       "        text-align: right;\n",
       "    }\n",
       "</style>\n",
       "<table border=\"1\" class=\"dataframe\">\n",
       "  <thead>\n",
       "    <tr style=\"text-align: right;\">\n",
       "      <th></th>\n",
       "      <th>네이버별점</th>\n",
       "      <th>네이버방문자리뷰</th>\n",
       "      <th>네이버블로그리뷰</th>\n",
       "    </tr>\n",
       "  </thead>\n",
       "  <tbody>\n",
       "    <tr>\n",
       "      <th>count</th>\n",
       "      <td>576.00</td>\n",
       "      <td>731.00</td>\n",
       "      <td>731.00</td>\n",
       "    </tr>\n",
       "    <tr>\n",
       "      <th>mean</th>\n",
       "      <td>4.44</td>\n",
       "      <td>59.45</td>\n",
       "      <td>37.37</td>\n",
       "    </tr>\n",
       "    <tr>\n",
       "      <th>std</th>\n",
       "      <td>0.24</td>\n",
       "      <td>55.64</td>\n",
       "      <td>50.45</td>\n",
       "    </tr>\n",
       "    <tr>\n",
       "      <th>min</th>\n",
       "      <td>3.48</td>\n",
       "      <td>1.00</td>\n",
       "      <td>1.00</td>\n",
       "    </tr>\n",
       "    <tr>\n",
       "      <th>25%</th>\n",
       "      <td>4.29</td>\n",
       "      <td>15.00</td>\n",
       "      <td>4.00</td>\n",
       "    </tr>\n",
       "    <tr>\n",
       "      <th>50%</th>\n",
       "      <td>4.43</td>\n",
       "      <td>41.00</td>\n",
       "      <td>14.00</td>\n",
       "    </tr>\n",
       "    <tr>\n",
       "      <th>75%</th>\n",
       "      <td>4.60</td>\n",
       "      <td>91.50</td>\n",
       "      <td>49.00</td>\n",
       "    </tr>\n",
       "    <tr>\n",
       "      <th>max</th>\n",
       "      <td>5.00</td>\n",
       "      <td>233.00</td>\n",
       "      <td>228.00</td>\n",
       "    </tr>\n",
       "  </tbody>\n",
       "</table>\n",
       "</div>"
      ],
      "text/plain": [
       "        네이버별점  네이버방문자리뷰  네이버블로그리뷰\n",
       "count  576.00    731.00    731.00\n",
       "mean     4.44     59.45     37.37\n",
       "std      0.24     55.64     50.45\n",
       "min      3.48      1.00      1.00\n",
       "25%      4.29     15.00      4.00\n",
       "50%      4.43     41.00     14.00\n",
       "75%      4.60     91.50     49.00\n",
       "max      5.00    233.00    228.00"
      ]
     },
     "execution_count": 26,
     "metadata": {},
     "output_type": "execute_result"
    }
   ],
   "source": [
    "print('네이버')\n",
    "naver2 = naver.rename(columns={\n",
    "    'point' : '네이버별점',\n",
    "    'score' : '구글별점',\n",
    "    'visit_review' : '네이버방문자리뷰',\n",
    "    'review' : '구글방문자리뷰',\n",
    "    'blog_review': '네이버블로그리뷰'\n",
    "})\n",
    "round(naver2.describe(),2)"
   ]
  },
  {
   "cell_type": "code",
   "execution_count": 27,
   "id": "5dde88bb",
   "metadata": {},
   "outputs": [
    {
     "name": "stdout",
     "output_type": "stream",
     "text": [
      "구글\n"
     ]
    },
    {
     "data": {
      "text/html": [
       "<div>\n",
       "<style scoped>\n",
       "    .dataframe tbody tr th:only-of-type {\n",
       "        vertical-align: middle;\n",
       "    }\n",
       "\n",
       "    .dataframe tbody tr th {\n",
       "        vertical-align: top;\n",
       "    }\n",
       "\n",
       "    .dataframe thead th {\n",
       "        text-align: right;\n",
       "    }\n",
       "</style>\n",
       "<table border=\"1\" class=\"dataframe\">\n",
       "  <thead>\n",
       "    <tr style=\"text-align: right;\">\n",
       "      <th></th>\n",
       "      <th>구글별점</th>\n",
       "      <th>구글방문자리뷰</th>\n",
       "    </tr>\n",
       "  </thead>\n",
       "  <tbody>\n",
       "    <tr>\n",
       "      <th>count</th>\n",
       "      <td>889.00</td>\n",
       "      <td>889.00</td>\n",
       "    </tr>\n",
       "    <tr>\n",
       "      <th>mean</th>\n",
       "      <td>4.02</td>\n",
       "      <td>43.31</td>\n",
       "    </tr>\n",
       "    <tr>\n",
       "      <th>std</th>\n",
       "      <td>0.73</td>\n",
       "      <td>55.08</td>\n",
       "    </tr>\n",
       "    <tr>\n",
       "      <th>min</th>\n",
       "      <td>1.00</td>\n",
       "      <td>1.00</td>\n",
       "    </tr>\n",
       "    <tr>\n",
       "      <th>25%</th>\n",
       "      <td>3.80</td>\n",
       "      <td>3.00</td>\n",
       "    </tr>\n",
       "    <tr>\n",
       "      <th>50%</th>\n",
       "      <td>4.10</td>\n",
       "      <td>17.00</td>\n",
       "    </tr>\n",
       "    <tr>\n",
       "      <th>75%</th>\n",
       "      <td>4.50</td>\n",
       "      <td>66.00</td>\n",
       "    </tr>\n",
       "    <tr>\n",
       "      <th>max</th>\n",
       "      <td>5.00</td>\n",
       "      <td>233.00</td>\n",
       "    </tr>\n",
       "  </tbody>\n",
       "</table>\n",
       "</div>"
      ],
      "text/plain": [
       "         구글별점  구글방문자리뷰\n",
       "count  889.00   889.00\n",
       "mean     4.02    43.31\n",
       "std      0.73    55.08\n",
       "min      1.00     1.00\n",
       "25%      3.80     3.00\n",
       "50%      4.10    17.00\n",
       "75%      4.50    66.00\n",
       "max      5.00   233.00"
      ]
     },
     "execution_count": 27,
     "metadata": {},
     "output_type": "execute_result"
    }
   ],
   "source": [
    "print('구글')\n",
    "google2 = google.rename(columns={\n",
    "    'point' : '네이버별점',\n",
    "    'score' : '구글별점',\n",
    "    'visit_review' : '네이버방문자리뷰',\n",
    "    'review' : '구글방문자리뷰',\n",
    "    'blog_review': '네이버블로그리뷰'\n",
    "})\n",
    "round(google2.describe(),2)"
   ]
  },
  {
   "cell_type": "code",
   "execution_count": 28,
   "id": "1d2e5a88",
   "metadata": {},
   "outputs": [],
   "source": [
    "naver_rename = naver.rename(columns = {\n",
    "    'point' : \"별점\",\n",
    "    'score' : \"별점\",\n",
    "    'visit_review' : '방문자리뷰',\n",
    "    'review' : '방문자리뷰'\n",
    "})\n",
    "google_rename = google.rename(columns = {\n",
    "    'point' : \"별점\",\n",
    "    'score' : \"별점\",\n",
    "    'visit_review' : '방문자리뷰',\n",
    "    'review' : '방문자리뷰'\n",
    "})"
   ]
  },
  {
   "cell_type": "code",
   "execution_count": 29,
   "id": "8f4310fc",
   "metadata": {},
   "outputs": [
    {
     "name": "stdout",
     "output_type": "stream",
     "text": [
      "\n",
      "네이버의 별점은 구글에 비해서 \n",
      "평균 0.43점\n",
      "중간값 0.33점 높다\n",
      "\n"
     ]
    }
   ],
   "source": [
    "describe = round(naver_rename.describe() - google_rename.describe(), 2)\n",
    "print(f'''\n",
    "네이버의 별점은 구글에 비해서 \n",
    "평균 {describe.iloc[1,2]}점\n",
    "중간값 {describe.iloc[5,2]}점 높다\n",
    "''')"
   ]
  },
  {
   "cell_type": "code",
   "execution_count": 30,
   "id": "95512d12",
   "metadata": {},
   "outputs": [
    {
     "name": "stdout",
     "output_type": "stream",
     "text": [
      "네이버 - 구글 차이\n"
     ]
    },
    {
     "data": {
      "text/html": [
       "<div>\n",
       "<style scoped>\n",
       "    .dataframe tbody tr th:only-of-type {\n",
       "        vertical-align: middle;\n",
       "    }\n",
       "\n",
       "    .dataframe tbody tr th {\n",
       "        vertical-align: top;\n",
       "    }\n",
       "\n",
       "    .dataframe thead th {\n",
       "        text-align: right;\n",
       "    }\n",
       "</style>\n",
       "<table border=\"1\" class=\"dataframe\">\n",
       "  <thead>\n",
       "    <tr style=\"text-align: right;\">\n",
       "      <th></th>\n",
       "      <th>별점</th>\n",
       "      <th>방문자리뷰</th>\n",
       "    </tr>\n",
       "  </thead>\n",
       "  <tbody>\n",
       "    <tr>\n",
       "      <th>count</th>\n",
       "      <td>-313.00</td>\n",
       "      <td>-158.00</td>\n",
       "    </tr>\n",
       "    <tr>\n",
       "      <th>mean</th>\n",
       "      <td>0.43</td>\n",
       "      <td>16.13</td>\n",
       "    </tr>\n",
       "    <tr>\n",
       "      <th>std</th>\n",
       "      <td>-0.49</td>\n",
       "      <td>0.56</td>\n",
       "    </tr>\n",
       "    <tr>\n",
       "      <th>min</th>\n",
       "      <td>2.48</td>\n",
       "      <td>0.00</td>\n",
       "    </tr>\n",
       "    <tr>\n",
       "      <th>25%</th>\n",
       "      <td>0.49</td>\n",
       "      <td>12.00</td>\n",
       "    </tr>\n",
       "    <tr>\n",
       "      <th>50%</th>\n",
       "      <td>0.33</td>\n",
       "      <td>24.00</td>\n",
       "    </tr>\n",
       "    <tr>\n",
       "      <th>75%</th>\n",
       "      <td>0.10</td>\n",
       "      <td>25.50</td>\n",
       "    </tr>\n",
       "    <tr>\n",
       "      <th>max</th>\n",
       "      <td>0.00</td>\n",
       "      <td>0.00</td>\n",
       "    </tr>\n",
       "  </tbody>\n",
       "</table>\n",
       "</div>"
      ],
      "text/plain": [
       "           별점   방문자리뷰\n",
       "count -313.00 -158.00\n",
       "mean     0.43   16.13\n",
       "std     -0.49    0.56\n",
       "min      2.48    0.00\n",
       "25%      0.49   12.00\n",
       "50%      0.33   24.00\n",
       "75%      0.10   25.50\n",
       "max      0.00    0.00"
      ]
     },
     "execution_count": 30,
     "metadata": {},
     "output_type": "execute_result"
    }
   ],
   "source": [
    "print('네이버 - 구글 차이')\n",
    "describe[['별점', '방문자리뷰']]"
   ]
  },
  {
   "cell_type": "markdown",
   "id": "c3eb4c7e",
   "metadata": {},
   "source": [
    "## 기술통계 시각화 박스플롯, 히스토그램"
   ]
  },
  {
   "cell_type": "code",
   "execution_count": 55,
   "id": "7b683067",
   "metadata": {},
   "outputs": [
    {
     "data": {
      "text/html": [
       "<div>\n",
       "<style scoped>\n",
       "    .dataframe tbody tr th:only-of-type {\n",
       "        vertical-align: middle;\n",
       "    }\n",
       "\n",
       "    .dataframe tbody tr th {\n",
       "        vertical-align: top;\n",
       "    }\n",
       "\n",
       "    .dataframe thead th {\n",
       "        text-align: right;\n",
       "    }\n",
       "</style>\n",
       "<table border=\"1\" class=\"dataframe\">\n",
       "  <thead>\n",
       "    <tr style=\"text-align: right;\">\n",
       "      <th></th>\n",
       "      <th>name</th>\n",
       "      <th>네이버별점</th>\n",
       "      <th>네이버방문자리뷰</th>\n",
       "      <th>네이버블로그리뷰</th>\n",
       "      <th>ri</th>\n",
       "      <th>range</th>\n",
       "      <th>구글별점</th>\n",
       "      <th>구글방문자리뷰</th>\n",
       "      <th>address</th>\n",
       "    </tr>\n",
       "  </thead>\n",
       "  <tbody>\n",
       "    <tr>\n",
       "      <th>0</th>\n",
       "      <td>애월 우니담</td>\n",
       "      <td>4.33</td>\n",
       "      <td>979.0</td>\n",
       "      <td>715.0</td>\n",
       "      <td>고내리</td>\n",
       "      <td>4.2 - 4.39</td>\n",
       "      <td>NaN</td>\n",
       "      <td>NaN</td>\n",
       "      <td>NaN</td>\n",
       "    </tr>\n",
       "    <tr>\n",
       "      <th>1</th>\n",
       "      <td>제주 김만복 애월점</td>\n",
       "      <td>4.23</td>\n",
       "      <td>2182.0</td>\n",
       "      <td>1187.0</td>\n",
       "      <td>고내리</td>\n",
       "      <td>4.2 - 4.39</td>\n",
       "      <td>NaN</td>\n",
       "      <td>NaN</td>\n",
       "      <td>NaN</td>\n",
       "    </tr>\n",
       "    <tr>\n",
       "      <th>2</th>\n",
       "      <td>고불락</td>\n",
       "      <td>4.48</td>\n",
       "      <td>164.0</td>\n",
       "      <td>789.0</td>\n",
       "      <td>고내리</td>\n",
       "      <td>4.4 - 4.59</td>\n",
       "      <td>NaN</td>\n",
       "      <td>NaN</td>\n",
       "      <td>NaN</td>\n",
       "    </tr>\n",
       "    <tr>\n",
       "      <th>3</th>\n",
       "      <td>해오반</td>\n",
       "      <td>4.67</td>\n",
       "      <td>377.0</td>\n",
       "      <td>515.0</td>\n",
       "      <td>고내리</td>\n",
       "      <td>4.6 - 4.79</td>\n",
       "      <td>NaN</td>\n",
       "      <td>NaN</td>\n",
       "      <td>NaN</td>\n",
       "    </tr>\n",
       "    <tr>\n",
       "      <th>4</th>\n",
       "      <td>제주와함께라면</td>\n",
       "      <td>4.44</td>\n",
       "      <td>346.0</td>\n",
       "      <td>602.0</td>\n",
       "      <td>고내리</td>\n",
       "      <td>4.4 - 4.59</td>\n",
       "      <td>NaN</td>\n",
       "      <td>NaN</td>\n",
       "      <td>NaN</td>\n",
       "    </tr>\n",
       "  </tbody>\n",
       "</table>\n",
       "</div>"
      ],
      "text/plain": [
       "         name  네이버별점  네이버방문자리뷰  네이버블로그리뷰   ri       range  구글별점  구글방문자리뷰  \\\n",
       "0      애월 우니담   4.33     979.0     715.0  고내리  4.2 - 4.39   NaN      NaN   \n",
       "1  제주 김만복 애월점   4.23    2182.0    1187.0  고내리  4.2 - 4.39   NaN      NaN   \n",
       "2         고불락   4.48     164.0     789.0  고내리  4.4 - 4.59   NaN      NaN   \n",
       "3         해오반   4.67     377.0     515.0  고내리  4.6 - 4.79   NaN      NaN   \n",
       "4     제주와함께라면   4.44     346.0     602.0  고내리  4.4 - 4.59   NaN      NaN   \n",
       "\n",
       "  address  \n",
       "0     NaN  \n",
       "1     NaN  \n",
       "2     NaN  \n",
       "3     NaN  \n",
       "4     NaN  "
      ]
     },
     "execution_count": 55,
     "metadata": {},
     "output_type": "execute_result"
    }
   ],
   "source": [
    "concatt = pd.concat([naver, google])\n",
    "concatt = concatt.rename(columns={\n",
    "    'point' : '네이버별점',\n",
    "    'score' : '구글별점',\n",
    "    'visit_review' : '네이버방문자리뷰',\n",
    "    'review' : '구글방문자리뷰',\n",
    "    'blog_review': '네이버블로그리뷰'\n",
    "})\n",
    "concatt.head()\n"
   ]
  },
  {
   "cell_type": "code",
   "execution_count": 32,
   "id": "27243d9c",
   "metadata": {
    "scrolled": true
   },
   "outputs": [
    {
     "data": {
      "text/plain": [
       "<AxesSubplot:>"
      ]
     },
     "execution_count": 32,
     "metadata": {},
     "output_type": "execute_result"
    },
    {
     "data": {
      "image/png": "[encoded data removed]",
      "text/plain": [
       "<Figure size 432x288 with 1 Axes>"
      ]
     },
     "metadata": {
      "needs_background": "light"
     },
     "output_type": "display_data"
    }
   ],
   "source": [
    "# concatt[['네이버별점', '구글별점']].plot.box(vert=False)\n",
    "concatt.boxplot(column = ['구글별점', '네이버별점'], fontsize=15, vert=False, grid = False)"
   ]
  },
  {
   "cell_type": "code",
   "execution_count": 35,
   "id": "5d6a8777",
   "metadata": {},
   "outputs": [
    {
     "data": {
      "text/plain": [
       "<AxesSubplot:>"
      ]
     },
     "execution_count": 35,
     "metadata": {},
     "output_type": "execute_result"
    },
    {
     "data": {
      "image/png": "[encoded data removed]",
      "text/plain": [
       "<Figure size 864x288 with 1 Axes>"
      ]
     },
     "metadata": {
      "needs_background": "light"
     },
     "output_type": "display_data"
    }
   ],
   "source": [
    "plt.figure(figsize=(12, 4))\n",
    "concatt.boxplot(column = ['구글방문자리뷰', '네이버방문자리뷰', '네이버블로그리뷰'], fontsize=15, vert=False, grid=False)\n",
    "# plt.show"
   ]
  },
  {
   "cell_type": "code",
   "execution_count": 63,
   "id": "072f72b4",
   "metadata": {
    "scrolled": false
   },
   "outputs": [
    {
     "data": {
      "text/plain": [
       "<AxesSubplot:xlabel='별점 범위', ylabel='음식점수'>"
      ]
     },
     "execution_count": 63,
     "metadata": {},
     "output_type": "execute_result"
    },
    {
     "data": {
      "image/png": "[encoded data removed]",
      "text/plain": [
       "<Figure size 432x288 with 1 Axes>"
      ]
     },
     "metadata": {
      "needs_background": "light"
     },
     "output_type": "display_data"
    }
   ],
   "source": [
    "concatt.groupby('range')[['구글별점','네이버별점']].count().plot(kind='bar', xlabel='별점 범위', ylabel='음식점수' )"
   ]
  },
  {
   "cell_type": "code",
   "execution_count": 64,
   "id": "c6939480",
   "metadata": {},
   "outputs": [
    {
     "name": "stdout",
     "output_type": "stream",
     "text": [
      "네이버\n"
     ]
    },
    {
     "data": {
      "text/html": [
       "<div>\n",
       "<style scoped>\n",
       "    .dataframe tbody tr th:only-of-type {\n",
       "        vertical-align: middle;\n",
       "    }\n",
       "\n",
       "    .dataframe tbody tr th {\n",
       "        vertical-align: top;\n",
       "    }\n",
       "\n",
       "    .dataframe thead th {\n",
       "        text-align: right;\n",
       "    }\n",
       "</style>\n",
       "<table border=\"1\" class=\"dataframe\">\n",
       "  <thead>\n",
       "    <tr style=\"text-align: right;\">\n",
       "      <th></th>\n",
       "      <th>별점범위</th>\n",
       "      <th>음식점수</th>\n",
       "      <th>네이버비율</th>\n",
       "    </tr>\n",
       "  </thead>\n",
       "  <tbody>\n",
       "    <tr>\n",
       "      <th>0</th>\n",
       "      <td>1.0 - 1.19</td>\n",
       "      <td>0</td>\n",
       "      <td>0.00</td>\n",
       "    </tr>\n",
       "    <tr>\n",
       "      <th>1</th>\n",
       "      <td>1.2 - 1.39</td>\n",
       "      <td>0</td>\n",
       "      <td>0.00</td>\n",
       "    </tr>\n",
       "    <tr>\n",
       "      <th>2</th>\n",
       "      <td>1.4 - 1.59</td>\n",
       "      <td>0</td>\n",
       "      <td>0.00</td>\n",
       "    </tr>\n",
       "    <tr>\n",
       "      <th>3</th>\n",
       "      <td>1.6 - 1.79</td>\n",
       "      <td>0</td>\n",
       "      <td>0.00</td>\n",
       "    </tr>\n",
       "    <tr>\n",
       "      <th>4</th>\n",
       "      <td>1.8 - 1.99</td>\n",
       "      <td>0</td>\n",
       "      <td>0.00</td>\n",
       "    </tr>\n",
       "    <tr>\n",
       "      <th>5</th>\n",
       "      <td>2.0 - 2.19</td>\n",
       "      <td>0</td>\n",
       "      <td>0.00</td>\n",
       "    </tr>\n",
       "    <tr>\n",
       "      <th>6</th>\n",
       "      <td>2.2 - 2.39</td>\n",
       "      <td>0</td>\n",
       "      <td>0.00</td>\n",
       "    </tr>\n",
       "    <tr>\n",
       "      <th>7</th>\n",
       "      <td>2.4 - 2.59</td>\n",
       "      <td>0</td>\n",
       "      <td>0.00</td>\n",
       "    </tr>\n",
       "    <tr>\n",
       "      <th>8</th>\n",
       "      <td>2.6 - 2.79</td>\n",
       "      <td>0</td>\n",
       "      <td>0.00</td>\n",
       "    </tr>\n",
       "    <tr>\n",
       "      <th>9</th>\n",
       "      <td>2.8 - 2.99</td>\n",
       "      <td>0</td>\n",
       "      <td>0.00</td>\n",
       "    </tr>\n",
       "    <tr>\n",
       "      <th>10</th>\n",
       "      <td>3.0 - 3.19</td>\n",
       "      <td>0</td>\n",
       "      <td>0.00</td>\n",
       "    </tr>\n",
       "    <tr>\n",
       "      <th>11</th>\n",
       "      <td>3.2 - 3.39</td>\n",
       "      <td>0</td>\n",
       "      <td>0.00</td>\n",
       "    </tr>\n",
       "    <tr>\n",
       "      <th>12</th>\n",
       "      <td>3.4 - 3.59</td>\n",
       "      <td>1</td>\n",
       "      <td>0.12</td>\n",
       "    </tr>\n",
       "    <tr>\n",
       "      <th>13</th>\n",
       "      <td>3.6 - 3.79</td>\n",
       "      <td>6</td>\n",
       "      <td>0.71</td>\n",
       "    </tr>\n",
       "    <tr>\n",
       "      <th>14</th>\n",
       "      <td>3.8 - 3.99</td>\n",
       "      <td>14</td>\n",
       "      <td>1.65</td>\n",
       "    </tr>\n",
       "    <tr>\n",
       "      <th>15</th>\n",
       "      <td>4.0 - 4.19</td>\n",
       "      <td>89</td>\n",
       "      <td>10.52</td>\n",
       "    </tr>\n",
       "    <tr>\n",
       "      <th>16</th>\n",
       "      <td>4.2 - 4.39</td>\n",
       "      <td>250</td>\n",
       "      <td>29.55</td>\n",
       "    </tr>\n",
       "    <tr>\n",
       "      <th>17</th>\n",
       "      <td>4.4 - 4.59</td>\n",
       "      <td>285</td>\n",
       "      <td>33.69</td>\n",
       "    </tr>\n",
       "    <tr>\n",
       "      <th>18</th>\n",
       "      <td>4.6 - 4.79</td>\n",
       "      <td>142</td>\n",
       "      <td>16.78</td>\n",
       "    </tr>\n",
       "    <tr>\n",
       "      <th>19</th>\n",
       "      <td>4.8 - 5.0</td>\n",
       "      <td>59</td>\n",
       "      <td>6.97</td>\n",
       "    </tr>\n",
       "  </tbody>\n",
       "</table>\n",
       "</div>"
      ],
      "text/plain": [
       "          별점범위  음식점수  네이버비율\n",
       "0   1.0 - 1.19     0   0.00\n",
       "1   1.2 - 1.39     0   0.00\n",
       "2   1.4 - 1.59     0   0.00\n",
       "3   1.6 - 1.79     0   0.00\n",
       "4   1.8 - 1.99     0   0.00\n",
       "5   2.0 - 2.19     0   0.00\n",
       "6   2.2 - 2.39     0   0.00\n",
       "7   2.4 - 2.59     0   0.00\n",
       "8   2.6 - 2.79     0   0.00\n",
       "9   2.8 - 2.99     0   0.00\n",
       "10  3.0 - 3.19     0   0.00\n",
       "11  3.2 - 3.39     0   0.00\n",
       "12  3.4 - 3.59     1   0.12\n",
       "13  3.6 - 3.79     6   0.71\n",
       "14  3.8 - 3.99    14   1.65\n",
       "15  4.0 - 4.19    89  10.52\n",
       "16  4.2 - 4.39   250  29.55\n",
       "17  4.4 - 4.59   285  33.69\n",
       "18  4.6 - 4.79   142  16.78\n",
       "19   4.8 - 5.0    59   6.97"
      ]
     },
     "execution_count": 64,
     "metadata": {},
     "output_type": "execute_result"
    }
   ],
   "source": [
    "naver_count = naver.groupby('range')['point'].count().reset_index()\n",
    "naver_count = naver_count.rename(columns = {\n",
    "    \"range\" : \"별점범위\",\n",
    "    \"point\" : \"음식점수\"\n",
    "})\n",
    "print('네이버')\n",
    "naver_count['네이버비율'] = round((naver_count.음식점수 / 846 * 100), 2)\n",
    "naver_count"
   ]
  },
  {
   "cell_type": "code",
   "execution_count": 36,
   "id": "1a46a5fe",
   "metadata": {},
   "outputs": [
    {
     "data": {
      "text/plain": [
       "name            0.975177\n",
       "point           0.975177\n",
       "visit_review    0.963357\n",
       "blog_review     0.953901\n",
       "ri              0.975177\n",
       "range           0.971631\n",
       "dtype: float64"
      ]
     },
     "execution_count": 36,
     "metadata": {},
     "output_type": "execute_result"
    }
   ],
   "source": [
    "naver[naver.point >= 4.0].count() / 846"
   ]
  },
  {
   "cell_type": "code",
   "execution_count": 37,
   "id": "a93a7a67",
   "metadata": {},
   "outputs": [
    {
     "data": {
      "text/plain": [
       "name            0.392435\n",
       "point           0.392435\n",
       "visit_review    0.391253\n",
       "blog_review     0.386525\n",
       "ri              0.392435\n",
       "range           0.388889\n",
       "dtype: float64"
      ]
     },
     "execution_count": 37,
     "metadata": {},
     "output_type": "execute_result"
    }
   ],
   "source": [
    "naver[naver.point >= 4.5].count() / 846"
   ]
  },
  {
   "cell_type": "code",
   "execution_count": 23,
   "id": "5b9dfb40",
   "metadata": {},
   "outputs": [
    {
     "data": {
      "text/html": [
       "<div>\n",
       "<style scoped>\n",
       "    .dataframe tbody tr th:only-of-type {\n",
       "        vertical-align: middle;\n",
       "    }\n",
       "\n",
       "    .dataframe tbody tr th {\n",
       "        vertical-align: top;\n",
       "    }\n",
       "\n",
       "    .dataframe thead th {\n",
       "        text-align: right;\n",
       "    }\n",
       "</style>\n",
       "<table border=\"1\" class=\"dataframe\">\n",
       "  <thead>\n",
       "    <tr style=\"text-align: right;\">\n",
       "      <th></th>\n",
       "      <th>point</th>\n",
       "      <th>visit_review</th>\n",
       "      <th>blog_review</th>\n",
       "    </tr>\n",
       "  </thead>\n",
       "  <tbody>\n",
       "    <tr>\n",
       "      <th>count</th>\n",
       "      <td>846.000000</td>\n",
       "      <td>1074.000000</td>\n",
       "      <td>1032.000000</td>\n",
       "    </tr>\n",
       "    <tr>\n",
       "      <th>mean</th>\n",
       "      <td>4.440083</td>\n",
       "      <td>163.509311</td>\n",
       "      <td>155.058140</td>\n",
       "    </tr>\n",
       "    <tr>\n",
       "      <th>std</th>\n",
       "      <td>0.230442</td>\n",
       "      <td>365.849218</td>\n",
       "      <td>362.465325</td>\n",
       "    </tr>\n",
       "    <tr>\n",
       "      <th>min</th>\n",
       "      <td>3.480000</td>\n",
       "      <td>1.000000</td>\n",
       "      <td>1.000000</td>\n",
       "    </tr>\n",
       "    <tr>\n",
       "      <th>25%</th>\n",
       "      <td>4.290000</td>\n",
       "      <td>15.000000</td>\n",
       "      <td>5.000000</td>\n",
       "    </tr>\n",
       "    <tr>\n",
       "      <th>50%</th>\n",
       "      <td>4.430000</td>\n",
       "      <td>58.000000</td>\n",
       "      <td>26.000000</td>\n",
       "    </tr>\n",
       "    <tr>\n",
       "      <th>75%</th>\n",
       "      <td>4.590000</td>\n",
       "      <td>158.500000</td>\n",
       "      <td>136.250000</td>\n",
       "    </tr>\n",
       "    <tr>\n",
       "      <th>max</th>\n",
       "      <td>5.000000</td>\n",
       "      <td>5459.000000</td>\n",
       "      <td>3330.000000</td>\n",
       "    </tr>\n",
       "  </tbody>\n",
       "</table>\n",
       "</div>"
      ],
      "text/plain": [
       "            point  visit_review  blog_review\n",
       "count  846.000000   1074.000000  1032.000000\n",
       "mean     4.440083    163.509311   155.058140\n",
       "std      0.230442    365.849218   362.465325\n",
       "min      3.480000      1.000000     1.000000\n",
       "25%      4.290000     15.000000     5.000000\n",
       "50%      4.430000     58.000000    26.000000\n",
       "75%      4.590000    158.500000   136.250000\n",
       "max      5.000000   5459.000000  3330.000000"
      ]
     },
     "execution_count": 23,
     "metadata": {},
     "output_type": "execute_result"
    }
   ],
   "source": [
    "naver.describe()"
   ]
  },
  {
   "cell_type": "code",
   "execution_count": 54,
   "id": "c534cb69",
   "metadata": {},
   "outputs": [
    {
     "name": "stdout",
     "output_type": "stream",
     "text": [
      "구글\n"
     ]
    },
    {
     "data": {
      "text/html": [
       "<div>\n",
       "<style scoped>\n",
       "    .dataframe tbody tr th:only-of-type {\n",
       "        vertical-align: middle;\n",
       "    }\n",
       "\n",
       "    .dataframe tbody tr th {\n",
       "        vertical-align: top;\n",
       "    }\n",
       "\n",
       "    .dataframe thead th {\n",
       "        text-align: right;\n",
       "    }\n",
       "</style>\n",
       "<table border=\"1\" class=\"dataframe\">\n",
       "  <thead>\n",
       "    <tr style=\"text-align: right;\">\n",
       "      <th></th>\n",
       "      <th>별점범위</th>\n",
       "      <th>음식점수</th>\n",
       "      <th>구글비율</th>\n",
       "    </tr>\n",
       "  </thead>\n",
       "  <tbody>\n",
       "    <tr>\n",
       "      <th>0</th>\n",
       "      <td>1.0 - 1.19</td>\n",
       "      <td>16</td>\n",
       "      <td>1.62</td>\n",
       "    </tr>\n",
       "    <tr>\n",
       "      <th>1</th>\n",
       "      <td>1.2 - 1.39</td>\n",
       "      <td>0</td>\n",
       "      <td>0.00</td>\n",
       "    </tr>\n",
       "    <tr>\n",
       "      <th>2</th>\n",
       "      <td>1.4 - 1.59</td>\n",
       "      <td>1</td>\n",
       "      <td>0.10</td>\n",
       "    </tr>\n",
       "    <tr>\n",
       "      <th>3</th>\n",
       "      <td>1.6 - 1.79</td>\n",
       "      <td>2</td>\n",
       "      <td>0.20</td>\n",
       "    </tr>\n",
       "    <tr>\n",
       "      <th>4</th>\n",
       "      <td>1.8 - 1.99</td>\n",
       "      <td>0</td>\n",
       "      <td>0.00</td>\n",
       "    </tr>\n",
       "    <tr>\n",
       "      <th>5</th>\n",
       "      <td>2.0 - 2.19</td>\n",
       "      <td>7</td>\n",
       "      <td>0.71</td>\n",
       "    </tr>\n",
       "    <tr>\n",
       "      <th>6</th>\n",
       "      <td>2.2 - 2.39</td>\n",
       "      <td>3</td>\n",
       "      <td>0.30</td>\n",
       "    </tr>\n",
       "    <tr>\n",
       "      <th>7</th>\n",
       "      <td>2.4 - 2.59</td>\n",
       "      <td>6</td>\n",
       "      <td>0.61</td>\n",
       "    </tr>\n",
       "    <tr>\n",
       "      <th>8</th>\n",
       "      <td>2.6 - 2.79</td>\n",
       "      <td>6</td>\n",
       "      <td>0.61</td>\n",
       "    </tr>\n",
       "    <tr>\n",
       "      <th>9</th>\n",
       "      <td>2.8 - 2.99</td>\n",
       "      <td>5</td>\n",
       "      <td>0.51</td>\n",
       "    </tr>\n",
       "    <tr>\n",
       "      <th>10</th>\n",
       "      <td>3.0 - 3.19</td>\n",
       "      <td>51</td>\n",
       "      <td>5.18</td>\n",
       "    </tr>\n",
       "    <tr>\n",
       "      <th>11</th>\n",
       "      <td>3.2 - 3.39</td>\n",
       "      <td>38</td>\n",
       "      <td>3.86</td>\n",
       "    </tr>\n",
       "    <tr>\n",
       "      <th>12</th>\n",
       "      <td>3.4 - 3.59</td>\n",
       "      <td>36</td>\n",
       "      <td>3.65</td>\n",
       "    </tr>\n",
       "    <tr>\n",
       "      <th>13</th>\n",
       "      <td>3.6 - 3.79</td>\n",
       "      <td>72</td>\n",
       "      <td>7.31</td>\n",
       "    </tr>\n",
       "    <tr>\n",
       "      <th>14</th>\n",
       "      <td>3.8 - 3.99</td>\n",
       "      <td>105</td>\n",
       "      <td>10.66</td>\n",
       "    </tr>\n",
       "    <tr>\n",
       "      <th>15</th>\n",
       "      <td>4.0 - 4.19</td>\n",
       "      <td>190</td>\n",
       "      <td>19.29</td>\n",
       "    </tr>\n",
       "    <tr>\n",
       "      <th>16</th>\n",
       "      <td>4.2 - 4.39</td>\n",
       "      <td>157</td>\n",
       "      <td>15.94</td>\n",
       "    </tr>\n",
       "    <tr>\n",
       "      <th>17</th>\n",
       "      <td>4.4 - 4.59</td>\n",
       "      <td>110</td>\n",
       "      <td>11.17</td>\n",
       "    </tr>\n",
       "    <tr>\n",
       "      <th>18</th>\n",
       "      <td>4.6 - 4.79</td>\n",
       "      <td>69</td>\n",
       "      <td>7.01</td>\n",
       "    </tr>\n",
       "    <tr>\n",
       "      <th>19</th>\n",
       "      <td>4.8 - 5.0</td>\n",
       "      <td>111</td>\n",
       "      <td>11.27</td>\n",
       "    </tr>\n",
       "  </tbody>\n",
       "</table>\n",
       "</div>"
      ],
      "text/plain": [
       "          별점범위  음식점수   구글비율\n",
       "0   1.0 - 1.19    16   1.62\n",
       "1   1.2 - 1.39     0   0.00\n",
       "2   1.4 - 1.59     1   0.10\n",
       "3   1.6 - 1.79     2   0.20\n",
       "4   1.8 - 1.99     0   0.00\n",
       "5   2.0 - 2.19     7   0.71\n",
       "6   2.2 - 2.39     3   0.30\n",
       "7   2.4 - 2.59     6   0.61\n",
       "8   2.6 - 2.79     6   0.61\n",
       "9   2.8 - 2.99     5   0.51\n",
       "10  3.0 - 3.19    51   5.18\n",
       "11  3.2 - 3.39    38   3.86\n",
       "12  3.4 - 3.59    36   3.65\n",
       "13  3.6 - 3.79    72   7.31\n",
       "14  3.8 - 3.99   105  10.66\n",
       "15  4.0 - 4.19   190  19.29\n",
       "16  4.2 - 4.39   157  15.94\n",
       "17  4.4 - 4.59   110  11.17\n",
       "18  4.6 - 4.79    69   7.01\n",
       "19   4.8 - 5.0   111  11.27"
      ]
     },
     "execution_count": 54,
     "metadata": {},
     "output_type": "execute_result"
    }
   ],
   "source": [
    "google_count = google.groupby('range')['score'].count().reset_index()\n",
    "google_count = google_count.rename(columns = {\n",
    "    \"range\" : \"별점범위\",\n",
    "    \"score\" : \"음식점수\"\n",
    "})\n",
    "print('구글')\n",
    "google_count['구글비율'] = round((google_count.음식점수 / 985) *100, 2)\n",
    "google_count"
   ]
  },
  {
   "cell_type": "code",
   "execution_count": 58,
   "id": "205c208a",
   "metadata": {},
   "outputs": [
    {
     "data": {
      "text/plain": [
       "name       0.243655\n",
       "score      0.243655\n",
       "review     0.243655\n",
       "address    0.243655\n",
       "range      0.243655\n",
       "dtype: float64"
      ]
     },
     "execution_count": 58,
     "metadata": {},
     "output_type": "execute_result"
    }
   ],
   "source": [
    "google[google.score >= 4.5].count() / 985"
   ]
  },
  {
   "cell_type": "code",
   "execution_count": 65,
   "id": "1c37d4ae",
   "metadata": {},
   "outputs": [
    {
     "data": {
      "text/html": [
       "<div>\n",
       "<style scoped>\n",
       "    .dataframe tbody tr th:only-of-type {\n",
       "        vertical-align: middle;\n",
       "    }\n",
       "\n",
       "    .dataframe tbody tr th {\n",
       "        vertical-align: top;\n",
       "    }\n",
       "\n",
       "    .dataframe thead th {\n",
       "        text-align: right;\n",
       "    }\n",
       "</style>\n",
       "<table border=\"1\" class=\"dataframe\">\n",
       "  <thead>\n",
       "    <tr style=\"text-align: right;\">\n",
       "      <th></th>\n",
       "      <th>별점범위</th>\n",
       "      <th>음식점수</th>\n",
       "      <th>네이버비율</th>\n",
       "      <th>구글비율</th>\n",
       "    </tr>\n",
       "  </thead>\n",
       "  <tbody>\n",
       "    <tr>\n",
       "      <th>0</th>\n",
       "      <td>1.0 - 1.19</td>\n",
       "      <td>0</td>\n",
       "      <td>0.0</td>\n",
       "      <td>NaN</td>\n",
       "    </tr>\n",
       "    <tr>\n",
       "      <th>1</th>\n",
       "      <td>1.2 - 1.39</td>\n",
       "      <td>0</td>\n",
       "      <td>0.0</td>\n",
       "      <td>NaN</td>\n",
       "    </tr>\n",
       "    <tr>\n",
       "      <th>2</th>\n",
       "      <td>1.4 - 1.59</td>\n",
       "      <td>0</td>\n",
       "      <td>0.0</td>\n",
       "      <td>NaN</td>\n",
       "    </tr>\n",
       "    <tr>\n",
       "      <th>3</th>\n",
       "      <td>1.6 - 1.79</td>\n",
       "      <td>0</td>\n",
       "      <td>0.0</td>\n",
       "      <td>NaN</td>\n",
       "    </tr>\n",
       "    <tr>\n",
       "      <th>4</th>\n",
       "      <td>1.8 - 1.99</td>\n",
       "      <td>0</td>\n",
       "      <td>0.0</td>\n",
       "      <td>NaN</td>\n",
       "    </tr>\n",
       "  </tbody>\n",
       "</table>\n",
       "</div>"
      ],
      "text/plain": [
       "         별점범위  음식점수  네이버비율  구글비율\n",
       "0  1.0 - 1.19     0    0.0   NaN\n",
       "1  1.2 - 1.39     0    0.0   NaN\n",
       "2  1.4 - 1.59     0    0.0   NaN\n",
       "3  1.6 - 1.79     0    0.0   NaN\n",
       "4  1.8 - 1.99     0    0.0   NaN"
      ]
     },
     "execution_count": 65,
     "metadata": {},
     "output_type": "execute_result"
    }
   ],
   "source": [
    "concattt = pd.concat([naver_count, google_count])\n",
    "concattt.head()\n",
    "concattt."
   ]
  },
  {
   "cell_type": "code",
   "execution_count": 130,
   "id": "a815a224",
   "metadata": {
    "scrolled": true
   },
   "outputs": [
    {
     "data": {
      "text/plain": [
       "<AxesSubplot:>"
      ]
     },
     "execution_count": 130,
     "metadata": {},
     "output_type": "execute_result"
    },
    {
     "data": {
      "image/png": "[encoded data removed]",
      "text/plain": [
       "<Figure size 432x288 with 1 Axes>"
      ]
     },
     "metadata": {
      "needs_background": "light"
     },
     "output_type": "display_data"
    }
   ],
   "source": [
    "concattt[['별점범위', '네이버비율', '구글비율']].plot()"
   ]
  },
  {
   "cell_type": "code",
   "execution_count": 142,
   "id": "0cce9962",
   "metadata": {},
   "outputs": [
    {
     "data": {
      "image/png": "[encoded data removed]",
      "text/plain": [
       "<Figure size 864x360 with 1 Axes>"
      ]
     },
     "metadata": {
      "needs_background": "light"
     },
     "output_type": "display_data"
    }
   ],
   "source": [
    "import matplotlib.pyplot as plt\n",
    "from importlib import reload\n",
    "plt=reload(plt)\n",
    "\n",
    "\n",
    "plt.figure(figsize = (12,5))\n",
    "plt.plot(concattt['별점범위'], concattt['구글비율'], label='구글')\n",
    "plt.plot(concattt['별점범위'], concattt['네이버비율'], label='네이버')\n",
    "plt.xticks(rotation = 45)\n",
    "plt.xlabel('별점범위', fontsize=15)\n",
    "plt.ylabel('음식점 비율[%]', fontsize =15)\n",
    "plt.legend()\n",
    "plt.show()"
   ]
  },
  {
   "cell_type": "markdown",
   "id": "f4d9311a",
   "metadata": {},
   "source": [
    "## 별점과 리뷰의 분포도"
   ]
  },
  {
   "cell_type": "code",
   "execution_count": 39,
   "id": "b35cc414",
   "metadata": {},
   "outputs": [
    {
     "data": {
      "text/plain": [
       "<AxesSubplot:xlabel='point', ylabel='visit_review'>"
      ]
     },
     "execution_count": 39,
     "metadata": {},
     "output_type": "execute_result"
    },
    {
     "data": {
      "image/png": "[encoded data removed]",
      "text/plain": [
       "<Figure size 432x288 with 1 Axes>"
      ]
     },
     "metadata": {
      "needs_background": "light"
     },
     "output_type": "display_data"
    }
   ],
   "source": [
    "naver.plot.scatter(y='visit_review', x='point')"
   ]
  },
  {
   "cell_type": "code",
   "execution_count": 40,
   "id": "8bc6e46d",
   "metadata": {},
   "outputs": [
    {
     "data": {
      "text/plain": [
       "<AxesSubplot:xlabel='score', ylabel='review'>"
      ]
     },
     "execution_count": 40,
     "metadata": {},
     "output_type": "execute_result"
    },
    {
     "data": {
      "image/png": "[encoded data removed]",
      "text/plain": [
       "<Figure size 432x288 with 1 Axes>"
      ]
     },
     "metadata": {
      "needs_background": "light"
     },
     "output_type": "display_data"
    }
   ],
   "source": [
    "google.plot.scatter(y='review', x='score')"
   ]
  },
  {
   "cell_type": "markdown",
   "id": "575c9de2",
   "metadata": {},
   "source": [
    "## 네이버 블로그리뷰와 방문자리뷰 간의 상관관계"
   ]
  },
  {
   "cell_type": "code",
   "execution_count": 41,
   "id": "2b36e901",
   "metadata": {},
   "outputs": [
    {
     "data": {
      "text/plain": [
       "<AxesSubplot:xlabel='blog_review', ylabel='visit_review'>"
      ]
     },
     "execution_count": 41,
     "metadata": {},
     "output_type": "execute_result"
    },
    {
     "data": {
      "image/png": "[encoded data removed]",
      "text/plain": [
       "<Figure size 432x288 with 1 Axes>"
      ]
     },
     "metadata": {
      "needs_background": "light"
     },
     "output_type": "display_data"
    }
   ],
   "source": [
    "naver.plot.scatter(y='visit_review', x='blog_review')"
   ]
  },
  {
   "cell_type": "code",
   "execution_count": 44,
   "id": "eeedc14c",
   "metadata": {},
   "outputs": [
    {
     "data": {
      "text/html": [
       "<div>\n",
       "<style scoped>\n",
       "    .dataframe tbody tr th:only-of-type {\n",
       "        vertical-align: middle;\n",
       "    }\n",
       "\n",
       "    .dataframe tbody tr th {\n",
       "        vertical-align: top;\n",
       "    }\n",
       "\n",
       "    .dataframe thead th {\n",
       "        text-align: right;\n",
       "    }\n",
       "</style>\n",
       "<table border=\"1\" class=\"dataframe\">\n",
       "  <thead>\n",
       "    <tr style=\"text-align: right;\">\n",
       "      <th></th>\n",
       "      <th>n</th>\n",
       "      <th>r</th>\n",
       "      <th>CI95%</th>\n",
       "      <th>p-val</th>\n",
       "      <th>BF10</th>\n",
       "      <th>power</th>\n",
       "    </tr>\n",
       "  </thead>\n",
       "  <tbody>\n",
       "    <tr>\n",
       "      <th>pearson</th>\n",
       "      <td>731</td>\n",
       "      <td>0.529071</td>\n",
       "      <td>[0.47, 0.58]</td>\n",
       "      <td>5.775095e-54</td>\n",
       "      <td>3.22e+50</td>\n",
       "      <td>1.0</td>\n",
       "    </tr>\n",
       "  </tbody>\n",
       "</table>\n",
       "</div>"
      ],
      "text/plain": [
       "           n         r         CI95%         p-val      BF10  power\n",
       "pearson  731  0.529071  [0.47, 0.58]  5.775095e-54  3.22e+50    1.0"
      ]
     },
     "execution_count": 44,
     "metadata": {},
     "output_type": "execute_result"
    }
   ],
   "source": [
    "pg.corr(naver.visit_review, naver.blog_review)"
   ]
  },
  {
   "cell_type": "code",
   "execution_count": 43,
   "id": "8c6fe97e",
   "metadata": {},
   "outputs": [
    {
     "data": {
      "text/html": [
       "<div>\n",
       "<style scoped>\n",
       "    .dataframe tbody tr th:only-of-type {\n",
       "        vertical-align: middle;\n",
       "    }\n",
       "\n",
       "    .dataframe tbody tr th {\n",
       "        vertical-align: top;\n",
       "    }\n",
       "\n",
       "    .dataframe thead th {\n",
       "        text-align: right;\n",
       "    }\n",
       "</style>\n",
       "<table border=\"1\" class=\"dataframe\">\n",
       "  <thead>\n",
       "    <tr style=\"text-align: right;\">\n",
       "      <th></th>\n",
       "      <th>T</th>\n",
       "      <th>dof</th>\n",
       "      <th>tail</th>\n",
       "      <th>p-val</th>\n",
       "      <th>CI95%</th>\n",
       "      <th>cohen-d</th>\n",
       "      <th>BF10</th>\n",
       "      <th>power</th>\n",
       "    </tr>\n",
       "  </thead>\n",
       "  <tbody>\n",
       "    <tr>\n",
       "      <th>T-test</th>\n",
       "      <td>7.947162</td>\n",
       "      <td>1460</td>\n",
       "      <td>two-sided</td>\n",
       "      <td>3.785569e-15</td>\n",
       "      <td>[16.63, 27.53]</td>\n",
       "      <td>0.415689</td>\n",
       "      <td>1.195e+12</td>\n",
       "      <td>1.0</td>\n",
       "    </tr>\n",
       "  </tbody>\n",
       "</table>\n",
       "</div>"
      ],
      "text/plain": [
       "               T   dof       tail         p-val           CI95%   cohen-d  \\\n",
       "T-test  7.947162  1460  two-sided  3.785569e-15  [16.63, 27.53]  0.415689   \n",
       "\n",
       "             BF10  power  \n",
       "T-test  1.195e+12    1.0  "
      ]
     },
     "execution_count": 43,
     "metadata": {},
     "output_type": "execute_result"
    }
   ],
   "source": [
    "pg.ttest(naver.visit_review, naver.blog_review)"
   ]
  },
  {
   "cell_type": "code",
   "execution_count": 45,
   "id": "8d1ff10e",
   "metadata": {},
   "outputs": [
    {
     "data": {
      "text/html": [
       "<table class=\"simpletable\">\n",
       "<caption>OLS Regression Results</caption>\n",
       "<tr>\n",
       "  <th>Dep. Variable:</th>      <td>visit_review</td>   <th>  R-squared:         </th> <td>   0.280</td>\n",
       "</tr>\n",
       "<tr>\n",
       "  <th>Model:</th>                   <td>OLS</td>       <th>  Adj. R-squared:    </th> <td>   0.279</td>\n",
       "</tr>\n",
       "<tr>\n",
       "  <th>Method:</th>             <td>Least Squares</td>  <th>  F-statistic:       </th> <td>   283.4</td>\n",
       "</tr>\n",
       "<tr>\n",
       "  <th>Date:</th>             <td>Mon, 30 Aug 2021</td> <th>  Prob (F-statistic):</th> <td>5.78e-54</td>\n",
       "</tr>\n",
       "<tr>\n",
       "  <th>Time:</th>                 <td>17:24:15</td>     <th>  Log-Likelihood:    </th> <td> -3854.5</td>\n",
       "</tr>\n",
       "<tr>\n",
       "  <th>No. Observations:</th>      <td>   731</td>      <th>  AIC:               </th> <td>   7713.</td>\n",
       "</tr>\n",
       "<tr>\n",
       "  <th>Df Residuals:</th>          <td>   729</td>      <th>  BIC:               </th> <td>   7722.</td>\n",
       "</tr>\n",
       "<tr>\n",
       "  <th>Df Model:</th>              <td>     1</td>      <th>                     </th>     <td> </td>   \n",
       "</tr>\n",
       "<tr>\n",
       "  <th>Covariance Type:</th>      <td>nonrobust</td>    <th>                     </th>     <td> </td>   \n",
       "</tr>\n",
       "</table>\n",
       "<table class=\"simpletable\">\n",
       "<tr>\n",
       "       <td></td>          <th>coef</th>     <th>std err</th>      <th>t</th>      <th>P>|t|</th>  <th>[0.025</th>    <th>0.975]</th>  \n",
       "</tr>\n",
       "<tr>\n",
       "  <th>Intercept</th>   <td>   37.6431</td> <td>    2.175</td> <td>   17.305</td> <td> 0.000</td> <td>   33.373</td> <td>   41.913</td>\n",
       "</tr>\n",
       "<tr>\n",
       "  <th>blog_review</th> <td>    0.5835</td> <td>    0.035</td> <td>   16.834</td> <td> 0.000</td> <td>    0.515</td> <td>    0.652</td>\n",
       "</tr>\n",
       "</table>\n",
       "<table class=\"simpletable\">\n",
       "<tr>\n",
       "  <th>Omnibus:</th>       <td>117.919</td> <th>  Durbin-Watson:     </th> <td>   1.816</td>\n",
       "</tr>\n",
       "<tr>\n",
       "  <th>Prob(Omnibus):</th> <td> 0.000</td>  <th>  Jarque-Bera (JB):  </th> <td> 204.288</td>\n",
       "</tr>\n",
       "<tr>\n",
       "  <th>Skew:</th>          <td> 0.991</td>  <th>  Prob(JB):          </th> <td>4.36e-45</td>\n",
       "</tr>\n",
       "<tr>\n",
       "  <th>Kurtosis:</th>      <td> 4.668</td>  <th>  Cond. No.          </th> <td>    78.1</td>\n",
       "</tr>\n",
       "</table><br/><br/>Notes:<br/>[1] Standard Errors assume that the covariance matrix of the errors is correctly specified."
      ],
      "text/plain": [
       "<class 'statsmodels.iolib.summary.Summary'>\n",
       "\"\"\"\n",
       "                            OLS Regression Results                            \n",
       "==============================================================================\n",
       "Dep. Variable:           visit_review   R-squared:                       0.280\n",
       "Model:                            OLS   Adj. R-squared:                  0.279\n",
       "Method:                 Least Squares   F-statistic:                     283.4\n",
       "Date:                Mon, 30 Aug 2021   Prob (F-statistic):           5.78e-54\n",
       "Time:                        17:24:15   Log-Likelihood:                -3854.5\n",
       "No. Observations:                 731   AIC:                             7713.\n",
       "Df Residuals:                     729   BIC:                             7722.\n",
       "Df Model:                           1                                         \n",
       "Covariance Type:            nonrobust                                         \n",
       "===============================================================================\n",
       "                  coef    std err          t      P>|t|      [0.025      0.975]\n",
       "-------------------------------------------------------------------------------\n",
       "Intercept      37.6431      2.175     17.305      0.000      33.373      41.913\n",
       "blog_review     0.5835      0.035     16.834      0.000       0.515       0.652\n",
       "==============================================================================\n",
       "Omnibus:                      117.919   Durbin-Watson:                   1.816\n",
       "Prob(Omnibus):                  0.000   Jarque-Bera (JB):              204.288\n",
       "Skew:                           0.991   Prob(JB):                     4.36e-45\n",
       "Kurtosis:                       4.668   Cond. No.                         78.1\n",
       "==============================================================================\n",
       "\n",
       "Notes:\n",
       "[1] Standard Errors assume that the covariance matrix of the errors is correctly specified.\n",
       "\"\"\""
      ]
     },
     "execution_count": 45,
     "metadata": {},
     "output_type": "execute_result"
    }
   ],
   "source": [
    "from statsmodels.formula.api import ols\n",
    "m = ols (\"visit_review ~ blog_review\", data = naver).fit()\n",
    "m.summary()"
   ]
  },
  {
   "cell_type": "markdown",
   "id": "d6411fbf",
   "metadata": {},
   "source": [
    "# 임의 기준 설정 후 맛집찾기"
   ]
  },
  {
   "cell_type": "code",
   "execution_count": 143,
   "id": "6f3c99de",
   "metadata": {},
   "outputs": [],
   "source": [
    "star = 4.0\n",
    "rev = 86"
   ]
  },
  {
   "cell_type": "code",
   "execution_count": 144,
   "id": "f3f86b6f",
   "metadata": {},
   "outputs": [
    {
     "name": "stdout",
     "output_type": "stream",
     "text": [
      "\n",
      "네이버의 총 음식점 : 1137 개\n",
      "\n",
      "별점 4.0이상 리뷰수 86개 이상인 집 : 423 개\n",
      "\n",
      "총 음식점 대비 맛집 비율 : 37.2 % \n",
      "\n"
     ]
    }
   ],
   "source": [
    "naver_top = naver[(naver.point >= star) & (naver.visit_review >= rev)]\n",
    "print(f\"\"\"\n",
    "네이버의 총 음식점 : {naver.name.count()} 개\n",
    "\n",
    "별점 {star}이상 리뷰수 {rev}개 이상인 집 : {naver_top.name.count()} 개\n",
    "\n",
    "총 음식점 대비 맛집 비율 : {round(naver_top.name.count()/naver.name.count(), 3)*100} % \n",
    "\"\"\")"
   ]
  },
  {
   "cell_type": "code",
   "execution_count": 145,
   "id": "fa538319",
   "metadata": {},
   "outputs": [
    {
     "name": "stdout",
     "output_type": "stream",
     "text": [
      "\n",
      "구글의 총 음식점 : 985 개\n",
      "\n",
      "별점 4.0이상 리뷰수 86개 이상인 집 : 169 개\n",
      "\n",
      "총 음식점 대비 맛집 비율 : 17.16 % \n",
      "\n"
     ]
    }
   ],
   "source": [
    "google_top = google[(google.score >= star) & (google.review >=rev)]\n",
    "print(f\"\"\"\n",
    "구글의 총 음식점 : {google.name.count()} 개\n",
    "\n",
    "별점 {star}이상 리뷰수 {rev}개 이상인 집 : {google_top.name.count()} 개\n",
    "\n",
    "총 음식점 대비 맛집 비율 : {round(google_top.name.count()/google.name.count(), 4)*100} % \n",
    "\"\"\")"
   ]
  },
  {
   "cell_type": "code",
   "execution_count": null,
   "id": "311dc7fb",
   "metadata": {},
   "outputs": [],
   "source": [
    "naver[(naver.point >= 3.0) & (naver.point < 4.0) & (naver.visit_review >= 30) & (naver.blog_review >= 10)]"
   ]
  },
  {
   "cell_type": "code",
   "execution_count": 49,
   "id": "3ab2e693",
   "metadata": {},
   "outputs": [
    {
     "data": {
      "text/html": [
       "<div>\n",
       "<style scoped>\n",
       "    .dataframe tbody tr th:only-of-type {\n",
       "        vertical-align: middle;\n",
       "    }\n",
       "\n",
       "    .dataframe tbody tr th {\n",
       "        vertical-align: top;\n",
       "    }\n",
       "\n",
       "    .dataframe thead th {\n",
       "        text-align: right;\n",
       "    }\n",
       "</style>\n",
       "<table border=\"1\" class=\"dataframe\">\n",
       "  <thead>\n",
       "    <tr style=\"text-align: right;\">\n",
       "      <th></th>\n",
       "      <th>point</th>\n",
       "      <th>visit_review</th>\n",
       "      <th>blog_review</th>\n",
       "    </tr>\n",
       "  </thead>\n",
       "  <tbody>\n",
       "    <tr>\n",
       "      <th>count</th>\n",
       "      <td>353.000000</td>\n",
       "      <td>353.000000</td>\n",
       "      <td>353.000000</td>\n",
       "    </tr>\n",
       "    <tr>\n",
       "      <th>mean</th>\n",
       "      <td>4.461416</td>\n",
       "      <td>103.951841</td>\n",
       "      <td>59.076487</td>\n",
       "    </tr>\n",
       "    <tr>\n",
       "      <th>std</th>\n",
       "      <td>0.211969</td>\n",
       "      <td>48.309436</td>\n",
       "      <td>56.580517</td>\n",
       "    </tr>\n",
       "    <tr>\n",
       "      <th>min</th>\n",
       "      <td>4.000000</td>\n",
       "      <td>43.000000</td>\n",
       "      <td>1.000000</td>\n",
       "    </tr>\n",
       "    <tr>\n",
       "      <th>25%</th>\n",
       "      <td>4.330000</td>\n",
       "      <td>63.000000</td>\n",
       "      <td>14.000000</td>\n",
       "    </tr>\n",
       "    <tr>\n",
       "      <th>50%</th>\n",
       "      <td>4.440000</td>\n",
       "      <td>94.000000</td>\n",
       "      <td>39.000000</td>\n",
       "    </tr>\n",
       "    <tr>\n",
       "      <th>75%</th>\n",
       "      <td>4.590000</td>\n",
       "      <td>135.000000</td>\n",
       "      <td>87.000000</td>\n",
       "    </tr>\n",
       "    <tr>\n",
       "      <th>max</th>\n",
       "      <td>4.980000</td>\n",
       "      <td>233.000000</td>\n",
       "      <td>227.000000</td>\n",
       "    </tr>\n",
       "  </tbody>\n",
       "</table>\n",
       "</div>"
      ],
      "text/plain": [
       "            point  visit_review  blog_review\n",
       "count  353.000000    353.000000   353.000000\n",
       "mean     4.461416    103.951841    59.076487\n",
       "std      0.211969     48.309436    56.580517\n",
       "min      4.000000     43.000000     1.000000\n",
       "25%      4.330000     63.000000    14.000000\n",
       "50%      4.440000     94.000000    39.000000\n",
       "75%      4.590000    135.000000    87.000000\n",
       "max      4.980000    233.000000   227.000000"
      ]
     },
     "execution_count": 49,
     "metadata": {},
     "output_type": "execute_result"
    }
   ],
   "source": [
    "naver_top.describe()"
   ]
  },
  {
   "cell_type": "code",
   "execution_count": 51,
   "id": "213d177d",
   "metadata": {},
   "outputs": [
    {
     "data": {
      "text/html": [
       "<div>\n",
       "<style scoped>\n",
       "    .dataframe tbody tr th:only-of-type {\n",
       "        vertical-align: middle;\n",
       "    }\n",
       "\n",
       "    .dataframe tbody tr th {\n",
       "        vertical-align: top;\n",
       "    }\n",
       "\n",
       "    .dataframe thead th {\n",
       "        text-align: right;\n",
       "    }\n",
       "</style>\n",
       "<table border=\"1\" class=\"dataframe\">\n",
       "  <thead>\n",
       "    <tr style=\"text-align: right;\">\n",
       "      <th></th>\n",
       "      <th>score</th>\n",
       "      <th>review</th>\n",
       "    </tr>\n",
       "  </thead>\n",
       "  <tbody>\n",
       "    <tr>\n",
       "      <th>count</th>\n",
       "      <td>197.000000</td>\n",
       "      <td>197.000000</td>\n",
       "    </tr>\n",
       "    <tr>\n",
       "      <th>mean</th>\n",
       "      <td>4.275127</td>\n",
       "      <td>106.974619</td>\n",
       "    </tr>\n",
       "    <tr>\n",
       "      <th>std</th>\n",
       "      <td>0.219090</td>\n",
       "      <td>50.529991</td>\n",
       "    </tr>\n",
       "    <tr>\n",
       "      <th>min</th>\n",
       "      <td>4.000000</td>\n",
       "      <td>43.000000</td>\n",
       "    </tr>\n",
       "    <tr>\n",
       "      <th>25%</th>\n",
       "      <td>4.100000</td>\n",
       "      <td>64.000000</td>\n",
       "    </tr>\n",
       "    <tr>\n",
       "      <th>50%</th>\n",
       "      <td>4.200000</td>\n",
       "      <td>95.000000</td>\n",
       "    </tr>\n",
       "    <tr>\n",
       "      <th>75%</th>\n",
       "      <td>4.400000</td>\n",
       "      <td>140.000000</td>\n",
       "    </tr>\n",
       "    <tr>\n",
       "      <th>max</th>\n",
       "      <td>4.900000</td>\n",
       "      <td>233.000000</td>\n",
       "    </tr>\n",
       "  </tbody>\n",
       "</table>\n",
       "</div>"
      ],
      "text/plain": [
       "            score      review\n",
       "count  197.000000  197.000000\n",
       "mean     4.275127  106.974619\n",
       "std      0.219090   50.529991\n",
       "min      4.000000   43.000000\n",
       "25%      4.100000   64.000000\n",
       "50%      4.200000   95.000000\n",
       "75%      4.400000  140.000000\n",
       "max      4.900000  233.000000"
      ]
     },
     "execution_count": 51,
     "metadata": {},
     "output_type": "execute_result"
    }
   ],
   "source": [
    "google_top.describe()"
   ]
  },
  {
   "cell_type": "code",
   "execution_count": null,
   "id": "73a3a647",
   "metadata": {},
   "outputs": [],
   "source": []
  },
  {
   "cell_type": "code",
   "execution_count": null,
   "id": "020ab42c",
   "metadata": {},
   "outputs": [],
   "source": []
  },
  {
   "cell_type": "code",
   "execution_count": null,
   "id": "9a477e57",
   "metadata": {},
   "outputs": [],
   "source": []
  },
  {
   "cell_type": "code",
   "execution_count": null,
   "id": "02ce7759",
   "metadata": {},
   "outputs": [],
   "source": []
  },
  {
   "cell_type": "code",
   "execution_count": null,
   "id": "c979be82",
   "metadata": {},
   "outputs": [],
   "source": []
  },
  {
   "cell_type": "code",
   "execution_count": null,
   "id": "88964c87",
   "metadata": {},
   "outputs": [],
   "source": []
  },
  {
   "cell_type": "code",
   "execution_count": null,
   "id": "8068908d",
   "metadata": {},
   "outputs": [],
   "source": []
  },
  {
   "cell_type": "code",
   "execution_count": null,
   "id": "3a60ec1a",
   "metadata": {},
   "outputs": [],
   "source": []
  },
  {
   "cell_type": "code",
   "execution_count": null,
   "id": "edc98b56",
   "metadata": {},
   "outputs": [],
   "source": []
  },
  {
   "cell_type": "code",
   "execution_count": null,
   "id": "4c0d9ae1",
   "metadata": {},
   "outputs": [],
   "source": []
  },
  {
   "cell_type": "code",
   "execution_count": null,
   "id": "f12f6f99",
   "metadata": {},
   "outputs": [],
   "source": [
    "# 이름에 띄어쓰기 제거 : 띄어쓰기 때문에 합쳐지지 않는 것을 방지하기 위해서 \n",
    "# 하지만 한개밖에 더 merge 되지 않아서 필요없을 듯 \n",
    "\n",
    "n_aw['new_name'] = n_aw.name.str.replace(\" \", \"\")\n",
    "g_aw['new_name'] = g_aw.name.str.replace(\" \", \"\")\n",
    "\n",
    "# 블로그리뷰에서 방문자리뷰 빼기 \n",
    "n_aw['reviewdiff'] = n_aw.blog_review - n_aw.visit_review"
   ]
  },
  {
   "cell_type": "code",
   "execution_count": null,
   "id": "ac89ace1",
   "metadata": {},
   "outputs": [],
   "source": [
    "print('네이버 애월 :', len(n_aw))\n",
    "print('네이버 성산 :', len(n_ss))\n",
    "print('구글 애월 :', len(g_aw))\n",
    "print('구글 성산 :', len(g_ss))"
   ]
  },
  {
   "cell_type": "code",
   "execution_count": null,
   "id": "e1a352dc",
   "metadata": {
    "scrolled": true
   },
   "outputs": [],
   "source": [
    "# 네이버 애월 : 별점 4.0 이상 + 방문자리뷰 100개 이상인 음식점 목록 \n",
    "topnaw = n_aw[(n_aw['point'] >= 4.0) & (n_aw['visit_review'] >= 100)].sort_values('visit_review', ascending=False)\n",
    "print(len(topnaw))\n",
    "nottopn = n_aw[~((n_aw['point'] >= 4.0) & (n_aw['visit_review'] >= 100))].sort_values('visit_review', ascending=False)\n",
    "print(len(nottopn))"
   ]
  },
  {
   "cell_type": "code",
   "execution_count": null,
   "id": "68dc09e5",
   "metadata": {},
   "outputs": [],
   "source": [
    "# 네이버 성산 : 별점 4.0 이상 + 방문자리뷰 100개 이상인 음식점 목록 \n",
    "topnss = n_ss[(n_ss['point'] >= 4.0) & (n_ss['visit_review'] >= 100)].sort_values('visit_review', ascending=False)\n",
    "len(topnss)"
   ]
  },
  {
   "cell_type": "code",
   "execution_count": null,
   "id": "00745f7d",
   "metadata": {},
   "outputs": [],
   "source": [
    "# 구글 애월 86개 \n",
    "topgaw = g_aw[(g_aw.score >= 4.0) & (g_aw.review > 100)].sort_values('review', ascending=False)"
   ]
  },
  {
   "cell_type": "code",
   "execution_count": null,
   "id": "31727403",
   "metadata": {},
   "outputs": [],
   "source": [
    "# 구글 성산 65개 \n",
    "topgss = g_ss[(g_ss.score >= 4.0) & (g_ss.review > 100)].sort_values('review', ascending=False)"
   ]
  },
  {
   "cell_type": "code",
   "execution_count": null,
   "id": "ddaa23a1",
   "metadata": {
    "scrolled": true
   },
   "outputs": [],
   "source": [
    "# 조건에 맞는 음식점만 머지 \n",
    "# 정렬기준 : 구글 평점 -> 구글리뷰 순서 (그냥 보기 편하려고 했음)\n",
    "\n",
    "awmerge = pd.merge(topnaw, topgaw, on='new_name').sort_values(['score', 'review'], ascending=False) \n",
    "print(len(awmerge), '개')\n",
    "awmerge.head()"
   ]
  },
  {
   "cell_type": "code",
   "execution_count": null,
   "id": "13b7d8fb",
   "metadata": {},
   "outputs": [],
   "source": [
    "# 머지한 테이블에서 : diff = 네이버평점-구글평점 \n",
    "awmerge['diff'] = abs(awmerge.score - awmerge.point)\n",
    "\n",
    "# 평균과 중간값 구하기. -> 별 차이 없음 \n",
    "print(awmerge['diff'].mean())\n",
    "print(awmerge['diff'].median())\n",
    "awmerge"
   ]
  },
  {
   "cell_type": "code",
   "execution_count": null,
   "id": "b2b680af",
   "metadata": {},
   "outputs": [],
   "source": []
  },
  {
   "cell_type": "code",
   "execution_count": null,
   "id": "4dc8e64b",
   "metadata": {},
   "outputs": [],
   "source": [
    "awmerge.groupby('diff')['diff'].count().plot(kind='bar')"
   ]
  },
  {
   "cell_type": "code",
   "execution_count": null,
   "id": "e8d4038f",
   "metadata": {},
   "outputs": [],
   "source": [
    "# 조건 상관없이 원본을 바로 머지  \n",
    "justmerge = pd.merge(n_aw, g_aw, on='new_name').sort_values(['score', 'review'], ascending=False) \n",
    "\n",
    "# no조건 머지한 테이블에서 : diff = 네이버평점-구글평점 \n",
    "justmerge['diff'] = abs(justmerge.score - justmerge.point)\n",
    "\n",
    "print(justmerge.new_name.count())\n",
    "print(justmerge['diff'].mean()) \n",
    "print(justmerge['diff'].median()) "
   ]
  },
  {
   "cell_type": "code",
   "execution_count": null,
   "id": "1f274e63",
   "metadata": {},
   "outputs": [],
   "source": [
    "# no조건 머지한 테이블에서 : 아래 조건에 맞는 행만 : diff가 큰 순서대로 정렬 \n",
    "condition = (justmerge.visit_review > 30) & (justmerge.review > 30) & (justmerge.visit_review < 2000)\n",
    "diffaw = justmerge[condition].sort_values('diff', ascending=False)\n",
    "diffaw"
   ]
  },
  {
   "cell_type": "code",
   "execution_count": null,
   "id": "2030d053",
   "metadata": {},
   "outputs": [],
   "source": [
    "topnaw[topnaw.new_name.str.contains('마마롱')]"
   ]
  },
  {
   "cell_type": "code",
   "execution_count": null,
   "id": "d3680db3",
   "metadata": {},
   "outputs": [],
   "source": [
    "ols('visit_review ~ blog_review', n_aw).fit().summary()"
   ]
  },
  {
   "cell_type": "code",
   "execution_count": null,
   "id": "c553b5cb",
   "metadata": {},
   "outputs": [],
   "source": [
    "ols('blog_review ~ visit_review', n_aw).fit().summary()"
   ]
  },
  {
   "cell_type": "code",
   "execution_count": null,
   "id": "fc86119f",
   "metadata": {},
   "outputs": [],
   "source": [
    "ols('point ~ visit_review + reviewdiff', n_aw).fit().summary()"
   ]
  },
  {
   "cell_type": "code",
   "execution_count": null,
   "id": "a420c669",
   "metadata": {},
   "outputs": [],
   "source": [
    "ols('point ~ reviewdiff', n_aw).fit().summary()"
   ]
  },
  {
   "cell_type": "code",
   "execution_count": null,
   "id": "dcbe9fc6",
   "metadata": {},
   "outputs": [],
   "source": [
    "ols('score ~ point', awmerge).fit().summary()"
   ]
  },
  {
   "cell_type": "code",
   "execution_count": null,
   "id": "6fb1f8a3",
   "metadata": {},
   "outputs": [],
   "source": [
    "pg.ttest(n_aw.point, g_aw.score)"
   ]
  },
  {
   "cell_type": "code",
   "execution_count": null,
   "id": "eb451b8c",
   "metadata": {},
   "outputs": [],
   "source": [
    "pg.ttest(topnaw.point, topgaw.score)"
   ]
  },
  {
   "cell_type": "code",
   "execution_count": null,
   "id": "73ebed17",
   "metadata": {},
   "outputs": [],
   "source": [
    "pg.ttest(topnaw.visit_review, nottopn.visit_review)"
   ]
  },
  {
   "cell_type": "code",
   "execution_count": null,
   "id": "e8a1fb23",
   "metadata": {},
   "outputs": [],
   "source": [
    "justmerge.point.mean()"
   ]
  },
  {
   "cell_type": "code",
   "execution_count": null,
   "id": "cdb368df",
   "metadata": {},
   "outputs": [],
   "source": [
    "justmerge.score.mean()"
   ]
  },
  {
   "cell_type": "code",
   "execution_count": null,
   "id": "37323182",
   "metadata": {},
   "outputs": [],
   "source": [
    "justmerge.point.median()"
   ]
  },
  {
   "cell_type": "code",
   "execution_count": null,
   "id": "d54a899e",
   "metadata": {},
   "outputs": [],
   "source": [
    "justmerge.score.median()"
   ]
  },
  {
   "cell_type": "code",
   "execution_count": null,
   "id": "342136ac",
   "metadata": {},
   "outputs": [],
   "source": [
    "r30n = n_aw[n_aw['visit_review'] >= 30]\n",
    "r30g = g_aw[g_aw['review'] >= 30]"
   ]
  },
  {
   "cell_type": "code",
   "execution_count": null,
   "id": "841695cd",
   "metadata": {},
   "outputs": [],
   "source": [
    "r30n.point.median()"
   ]
  },
  {
   "cell_type": "code",
   "execution_count": null,
   "id": "b7a088e2",
   "metadata": {},
   "outputs": [],
   "source": [
    "r30g.score.median()"
   ]
  },
  {
   "cell_type": "code",
   "execution_count": null,
   "id": "40e18cfc",
   "metadata": {},
   "outputs": [],
   "source": [
    "r30n.point.mean()"
   ]
  },
  {
   "cell_type": "code",
   "execution_count": null,
   "id": "252c347b",
   "metadata": {},
   "outputs": [],
   "source": [
    "r30g.score.mean()"
   ]
  },
  {
   "cell_type": "code",
   "execution_count": null,
   "id": "e812fda6",
   "metadata": {
    "scrolled": true
   },
   "outputs": [],
   "source": [
    "score_list = [i for i in range(0, 6000, 200)]\n",
    "labels = [f'{i} - {i+199}' for i in score_list[:-1]]\n",
    "labels"
   ]
  },
  {
   "cell_type": "code",
   "execution_count": null,
   "id": "6e84a954",
   "metadata": {},
   "outputs": [],
   "source": [
    "n_aw.visit_review.max()"
   ]
  },
  {
   "cell_type": "code",
   "execution_count": null,
   "id": "0a33d004",
   "metadata": {},
   "outputs": [],
   "source": [
    "n_ss.blog_review.max()"
   ]
  },
  {
   "cell_type": "code",
   "execution_count": null,
   "id": "43987137",
   "metadata": {},
   "outputs": [],
   "source": [
    "n_aw['range'] = pd.cut(n_aw.visit_review, score_list, right=True, labels=labels)"
   ]
  },
  {
   "cell_type": "code",
   "execution_count": null,
   "id": "b01c810f",
   "metadata": {
    "scrolled": false
   },
   "outputs": [],
   "source": [
    "pp = n_aw.groupby('range')['name'].count().reset_index()\n",
    "pp"
   ]
  },
  {
   "cell_type": "code",
   "execution_count": null,
   "id": "f6c0d6b7",
   "metadata": {},
   "outputs": [],
   "source": [
    "n_aw.groupby('range')['name'].count().plot(kind='bar')"
   ]
  },
  {
   "cell_type": "code",
   "execution_count": null,
   "id": "2b1d648d",
   "metadata": {},
   "outputs": [],
   "source": [
    "ols('diff ~ visit_review + blog_review', diffaw).fit().summary()"
   ]
  },
  {
   "cell_type": "code",
   "execution_count": null,
   "id": "e3435ed3",
   "metadata": {
    "scrolled": true
   },
   "outputs": [],
   "source": [
    "ols('diff ~ reviewdiff', diffaw).fit().summary()"
   ]
  },
  {
   "cell_type": "code",
   "execution_count": null,
   "id": "898eb32b",
   "metadata": {
    "scrolled": true
   },
   "outputs": [],
   "source": [
    "pg.corr(diffaw['diff'], diffaw['reviewdiff'])"
   ]
  },
  {
   "cell_type": "code",
   "execution_count": null,
   "id": "e12316cb",
   "metadata": {},
   "outputs": [],
   "source": [
    "awmerge"
   ]
  },
  {
   "cell_type": "code",
   "execution_count": null,
   "id": "721bb9a7",
   "metadata": {},
   "outputs": [],
   "source": []
  }
 ],
 "metadata": {
  "kernelspec": {
   "display_name": "Python 3",
   "language": "python",
   "name": "python3"
  },
  "language_info": {
   "codemirror_mode": {
    "name": "ipython",
    "version": 3
   },
   "file_extension": ".py",
   "mimetype": "text/x-python",
   "name": "python",
   "nbconvert_exporter": "python",
   "pygments_lexer": "ipython3",
   "version": "3.8.8"
  },
  "toc": {
   "base_numbering": 1,
   "nav_menu": {},
   "number_sections": false,
   "sideBar": true,
   "skip_h1_title": false,
   "title_cell": "Table of Contents",
   "title_sidebar": "Contents",
   "toc_cell": false,
   "toc_position": {
    "height": "calc(100% - 180px)",
    "left": "10px",
    "top": "150px",
    "width": "263.513px"
   },
   "toc_section_display": true,
   "toc_window_display": false
  }
 },
 "nbformat": 4,
 "nbformat_minor": 5
}
