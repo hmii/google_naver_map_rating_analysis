{
 "cells": [
  {
   "cell_type": "code",
   "execution_count": 1,
   "id": "0efcf6fe",
   "metadata": {},
   "outputs": [],
   "source": [
    "import pandas as pd"
   ]
  },
  {
   "cell_type": "code",
   "execution_count": 2,
   "id": "8043a48b",
   "metadata": {},
   "outputs": [],
   "source": [
    "aewol = ['고내리', '고성리', '곽지리', '광령리', '구엄리', '금성리', '납읍리', '봉성리', '상가리', '상귀리', '소길리', '수산리', '신엄리', '애월리', '어음리', '유수암리', '장전리', '하가리', '하귀1리', '하귀2리']\n",
    "eup = '애월읍'\n",
    "\n",
    "aewol_r = pd.DataFrame({})\n",
    "\n",
    "for ri in aewol :\n",
    "    df = pd.read_excel(f'df_{eup}_{ri}.xlsx')\n",
    "    aewol_r = pd.concat([aewol_r, df], axis=0) "
   ]
  },
  {
   "cell_type": "code",
   "execution_count": 3,
   "id": "4d9e0530",
   "metadata": {},
   "outputs": [
    {
     "name": "stdout",
     "output_type": "stream",
     "text": [
      "<class 'pandas.core.frame.DataFrame'>\n",
      "Int64Index: 5232 entries, 0 to 307\n",
      "Data columns (total 6 columns):\n",
      " #   Column   Non-Null Count  Dtype  \n",
      "---  ------   --------------  -----  \n",
      " 0   name     5232 non-null   object \n",
      " 1   score    4579 non-null   float64\n",
      " 2   review   4579 non-null   object \n",
      " 3   price    1737 non-null   object \n",
      " 4   what     5219 non-null   object \n",
      " 5   address  5195 non-null   object \n",
      "dtypes: float64(1), object(5)\n",
      "memory usage: 286.1+ KB\n"
     ]
    }
   ],
   "source": [
    "aewol_r.info()"
   ]
  },
  {
   "cell_type": "code",
   "execution_count": 4,
   "id": "2a453cbd",
   "metadata": {},
   "outputs": [],
   "source": [
    "def make(df):\n",
    "    df.review = df.review.str.replace(\",\", \"\")\n",
    "    df.review = df.review.fillna(0)\n",
    "    df.review = df.review.astype(float)\n",
    "    df.score = df.score.fillna(0)\n",
    "    "
   ]
  },
  {
   "cell_type": "code",
   "execution_count": 5,
   "id": "12e3b17e",
   "metadata": {},
   "outputs": [],
   "source": [
    "make(aewol_r)"
   ]
  },
  {
   "cell_type": "code",
   "execution_count": 8,
   "id": "cf9e165e",
   "metadata": {},
   "outputs": [],
   "source": [
    "aewol_drop = aewol_r.drop_duplicates()"
   ]
  },
  {
   "cell_type": "code",
   "execution_count": 9,
   "id": "f4012c1b",
   "metadata": {},
   "outputs": [
    {
     "name": "stdout",
     "output_type": "stream",
     "text": [
      "<class 'pandas.core.frame.DataFrame'>\n",
      "Int64Index: 1854 entries, 0 to 307\n",
      "Data columns (total 6 columns):\n",
      " #   Column   Non-Null Count  Dtype  \n",
      "---  ------   --------------  -----  \n",
      " 0   name     1854 non-null   object \n",
      " 1   score    1854 non-null   float64\n",
      " 2   review   1854 non-null   float64\n",
      " 3   price    765 non-null    object \n",
      " 4   what     1842 non-null   object \n",
      " 5   address  1823 non-null   object \n",
      "dtypes: float64(2), object(4)\n",
      "memory usage: 101.4+ KB\n"
     ]
    }
   ],
   "source": [
    "aewol_drop.info()"
   ]
  },
  {
   "cell_type": "code",
   "execution_count": 13,
   "id": "fe5e60ef",
   "metadata": {},
   "outputs": [],
   "source": [
    "aewol_drop.to_excel('애월읍_중복제거_DB.xlsx', index=False)"
   ]
  },
  {
   "cell_type": "code",
   "execution_count": null,
   "id": "75ede2dc",
   "metadata": {},
   "outputs": [],
   "source": []
  },
  {
   "cell_type": "code",
   "execution_count": 14,
   "id": "1f8a4027",
   "metadata": {},
   "outputs": [
    {
     "name": "stdout",
     "output_type": "stream",
     "text": [
      "<class 'pandas.core.frame.DataFrame'>\n",
      "Int64Index: 3329 entries, 0 to 251\n",
      "Data columns (total 6 columns):\n",
      " #   Column   Non-Null Count  Dtype  \n",
      "---  ------   --------------  -----  \n",
      " 0   name     3329 non-null   object \n",
      " 1   score    2796 non-null   float64\n",
      " 2   review   2796 non-null   object \n",
      " 3   price    1113 non-null   object \n",
      " 4   what     3318 non-null   object \n",
      " 5   address  3295 non-null   object \n",
      "dtypes: float64(1), object(5)\n",
      "memory usage: 182.1+ KB\n"
     ]
    }
   ],
   "source": [
    "sungsan = ['고성리', '난산리', '삼달리', '성산리', '수산리', '시흥리', '신산리', '신천리', '신풍리', '오조리', '온평리']\n",
    "\n",
    "eup = '성산읍'\n",
    "\n",
    "sungsan_r = pd.DataFrame({})\n",
    "\n",
    "for ri in sungsan :\n",
    "    df = pd.read_excel(f'df_{eup}_{ri}.xlsx')\n",
    "    sungsan_r = pd.concat([sungsan_r, df], axis=0) \n",
    "\n",
    "sungsan_r.info()"
   ]
  },
  {
   "cell_type": "code",
   "execution_count": 15,
   "id": "8379beda",
   "metadata": {},
   "outputs": [],
   "source": [
    "make(sungsan_r)"
   ]
  },
  {
   "cell_type": "code",
   "execution_count": 17,
   "id": "653006db",
   "metadata": {},
   "outputs": [],
   "source": [
    "sungsan_drop = sungsan_r.drop_duplicates()"
   ]
  },
  {
   "cell_type": "code",
   "execution_count": 18,
   "id": "eabed9a3",
   "metadata": {},
   "outputs": [
    {
     "name": "stdout",
     "output_type": "stream",
     "text": [
      "<class 'pandas.core.frame.DataFrame'>\n",
      "Int64Index: 1389 entries, 0 to 251\n",
      "Data columns (total 6 columns):\n",
      " #   Column   Non-Null Count  Dtype  \n",
      "---  ------   --------------  -----  \n",
      " 0   name     1389 non-null   object \n",
      " 1   score    1389 non-null   float64\n",
      " 2   review   1389 non-null   float64\n",
      " 3   price    540 non-null    object \n",
      " 4   what     1378 non-null   object \n",
      " 5   address  1367 non-null   object \n",
      "dtypes: float64(2), object(4)\n",
      "memory usage: 76.0+ KB\n"
     ]
    }
   ],
   "source": [
    "sungsan_drop.info()"
   ]
  },
  {
   "cell_type": "code",
   "execution_count": 19,
   "id": "48b5e365",
   "metadata": {},
   "outputs": [],
   "source": [
    "sungsan_drop.to_excel('성산읍_중복제거_DB.xlsx', index=False)"
   ]
  },
  {
   "cell_type": "code",
   "execution_count": null,
   "id": "009795ca",
   "metadata": {},
   "outputs": [],
   "source": []
  },
  {
   "cell_type": "code",
   "execution_count": null,
   "id": "da76cde7",
   "metadata": {},
   "outputs": [],
   "source": [
    "aewol = ['고내리', '고성리', '곽지리', '광령리', '구엄리', '금성리', '납읍리', '봉성리', '상가리', '상귀리', '소길리', '수산리', '신엄리', '애월리', '어음리', '유수암리', '장전리', '하가리', '하귀1리', '하귀2리']\n",
    "eup = '애월읍'\n",
    "\n",
    "aewol_r = pd.DataFrame({})\n",
    "\n",
    "for ri in aewol :\n",
    "    df = pd.read_excel(f'naver_{eup}_{ri}.xlsx')\n",
    "    aewol_r = pd.concat([aewol_r, df], axis=0) "
   ]
  },
  {
   "cell_type": "code",
   "execution_count": null,
   "id": "f0837e0d",
   "metadata": {},
   "outputs": [],
   "source": []
  },
  {
   "cell_type": "code",
   "execution_count": null,
   "id": "c5e06587",
   "metadata": {},
   "outputs": [],
   "source": []
  },
  {
   "cell_type": "code",
   "execution_count": null,
   "id": "02037422",
   "metadata": {},
   "outputs": [],
   "source": []
  },
  {
   "cell_type": "code",
   "execution_count": null,
   "id": "7df77196",
   "metadata": {},
   "outputs": [],
   "source": []
  },
  {
   "cell_type": "code",
   "execution_count": null,
   "id": "c07def84",
   "metadata": {},
   "outputs": [],
   "source": []
  },
  {
   "cell_type": "code",
   "execution_count": null,
   "id": "e7f35c1d",
   "metadata": {},
   "outputs": [],
   "source": []
  },
  {
   "cell_type": "code",
   "execution_count": null,
   "id": "08d9871c",
   "metadata": {},
   "outputs": [],
   "source": [
    "\n",
    "\n",
    "\n",
    "# aewol = ['고내리', '고성리', '곽지리', '광령리', '구엄리', '금성리', '납읍리', '봉성리', '상가리', '상귀리', '소길리', '수산리', '신엄리', '애월리', '어음리', '유수암리', '장전리', '하가리', '하귀1리', '하귀2리']\n",
    "\n",
    "# # 성산읍 음식점 \n",
    "# # sungsan = ['고성리', '난산리', '삼달리', '성산리', '수산리', '시흥리', '신산리', '신천리', '신풍리', '오조리', '온평리']\n",
    "# f'df_{eup}_{ri}.xlsx', index=False)"
   ]
  }
 ],
 "metadata": {
  "kernelspec": {
   "display_name": "Python 3",
   "language": "python",
   "name": "python3"
  },
  "language_info": {
   "codemirror_mode": {
    "name": "ipython",
    "version": 3
   },
   "file_extension": ".py",
   "mimetype": "text/x-python",
   "name": "python",
   "nbconvert_exporter": "python",
   "pygments_lexer": "ipython3",
   "version": "3.8.8"
  },
  "toc": {
   "base_numbering": 1,
   "nav_menu": {},
   "number_sections": true,
   "sideBar": true,
   "skip_h1_title": false,
   "title_cell": "Table of Contents",
   "title_sidebar": "Contents",
   "toc_cell": false,
   "toc_position": {},
   "toc_section_display": true,
   "toc_window_display": false
  }
 },
 "nbformat": 4,
 "nbformat_minor": 5
}
